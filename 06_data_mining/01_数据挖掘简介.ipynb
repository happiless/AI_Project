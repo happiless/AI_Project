{
 "cells": [
  {
   "cell_type": "markdown",
   "id": "every-installation",
   "metadata": {},
   "source": [
    "##### 套路\n",
    "-   1. 读取数据\n",
    "-   2. 实现算法\n",
    "-   3. 测试算法"
   ]
  },
  {
   "cell_type": "markdown",
   "id": "criminal-leader",
   "metadata": {},
   "source": [
    "### 一、亲和性分析\n",
    "-    1. 如果客户买了商品X，那么他们可能愿意买商品Y\n",
    "\n",
    "衡量方法：\n",
    "-    2. 支持度support：所有买X的人数\n",
    "-    3. 置信度confidence：$ \\frac{所有买X和Y的人数}{所有买X的人数}$"
   ]
  },
  {
   "cell_type": "code",
   "execution_count": 163,
   "id": "naval-gossip",
   "metadata": {},
   "outputs": [],
   "source": [
    "import numpy as np\n",
    "from operator import itemgetter\n",
    "import pandas as pd\n",
    "from collections import Counter\n",
    "from collections import defaultdict\n",
    "import warnings\n",
    "warnings.filterwarnings('ignore')"
   ]
  },
  {
   "cell_type": "code",
   "execution_count": 77,
   "id": "interstate-pierre",
   "metadata": {},
   "outputs": [],
   "source": [
    "X = np.zeros((100, 5), dtype='int32')\n",
    "for i in range(X.shape[0]):\n",
    "    if np.random.random() < 0.3:\n",
    "    # A bread winner\n",
    "        X[i][0] = 1\n",
    "        if np.random.random() < 0.5:\n",
    "            # Who likes milk\n",
    "            X[i][1] = 1\n",
    "        if np.random.random() < 0.2:\n",
    "            # Who likes cheese\n",
    "            X[i][2] = 1\n",
    "        if np.random.random() < 0.25:\n",
    "            # Who likes apples\n",
    "            X[i][3] = 1\n",
    "        if np.random.random() < 0.5:\n",
    "            # Who likes bananas\n",
    "            X[i][4] = 1\n",
    "    else:\n",
    "        # Not a bread winner\n",
    "        if np.random.random() < 0.5:\n",
    "            # Who likes milk\n",
    "            X[i][1] = 1\n",
    "            if np.random.random() < 0.2:\n",
    "                # Who likes cheese\n",
    "                X[i][2] = 1\n",
    "            if np.random.random() < 0.25:\n",
    "                # Who likes apples\n",
    "                X[i][3] = 1\n",
    "            if np.random.random() < 0.5:\n",
    "                # Who likes bananas\n",
    "                X[i][4] = 1\n",
    "        else:\n",
    "            if np.random.random() < 0.8:\n",
    "                # Who likes cheese\n",
    "                X[i][2] = 1\n",
    "            if np.random.random() < 0.6:\n",
    "                # Who likes apples\n",
    "                X[i][3] = 1\n",
    "            if np.random.random() < 0.7:\n",
    "                # Who likes bananas\n",
    "                X[i][4] = 1\n",
    "    if X[i].sum() == 0:\n",
    "        X[i][4] = 1  # Must buy something, so gets bananas\n",
    "\n",
    "data = pd.DataFrame(X, columns=['Bread', 'Milk', 'Cheese', 'Apples', 'Bananas'])\n",
    "data.to_csv('./data/01_affinity_dataset.csv', index=False)"
   ]
  },
  {
   "cell_type": "code",
   "execution_count": 80,
   "id": "derived-timothy",
   "metadata": {},
   "outputs": [
    {
     "name": "stdout",
     "output_type": "stream",
     "text": [
      "买了苹果的有39人\n",
      "买了苹果并且买了香蕉的有27人\n",
      "买了苹果没有买香蕉的有12人\n",
      "支持度support = 27 置信度confidence = 0.692.\n"
     ]
    }
   ],
   "source": [
    "apples = data.query(\"Apples > 0\")\n",
    "apples_and_bananas = apples.query(\"Bananas > 0\")\n",
    "apples_and_not_bananas = apples.query(\"Bananas == 0\")\n",
    "print(f\"买了苹果的有{len(apples)}人\")\n",
    "print(f\"买了苹果并且买了香蕉的有{len(apples_and_bananas)}人\")\n",
    "print(f\"买了苹果没有买香蕉的有{len(apples_and_not_bananas)}人\")\n",
    "support = len(apples_and_bananas)\n",
    "confidence = len(apples_and_bananas) / len(apples)\n",
    "print(\"支持度support = {0} 置信度confidence = {1:.3f}.\".format(support, confidence))"
   ]
  },
  {
   "cell_type": "code",
   "execution_count": 94,
   "id": "curious-square",
   "metadata": {},
   "outputs": [],
   "source": [
    "features_range = []\n",
    "for c1 in data.columns:\n",
    "    for c2 in data.columns:\n",
    "        if c1 == c2: continue\n",
    "        features_range.append((c1, c2))"
   ]
  },
  {
   "cell_type": "code",
   "execution_count": 95,
   "id": "spare-artwork",
   "metadata": {},
   "outputs": [
    {
     "data": {
      "text/plain": [
       "[('Bread', 'Milk'),\n",
       " ('Bread', 'Cheese'),\n",
       " ('Bread', 'Apples'),\n",
       " ('Bread', 'Bananas'),\n",
       " ('Milk', 'Bread'),\n",
       " ('Milk', 'Cheese'),\n",
       " ('Milk', 'Apples'),\n",
       " ('Milk', 'Bananas'),\n",
       " ('Cheese', 'Bread'),\n",
       " ('Cheese', 'Milk'),\n",
       " ('Cheese', 'Apples'),\n",
       " ('Cheese', 'Bananas'),\n",
       " ('Apples', 'Bread'),\n",
       " ('Apples', 'Milk'),\n",
       " ('Apples', 'Cheese'),\n",
       " ('Apples', 'Bananas'),\n",
       " ('Bananas', 'Bread'),\n",
       " ('Bananas', 'Milk'),\n",
       " ('Bananas', 'Cheese'),\n",
       " ('Bananas', 'Apples')]"
      ]
     },
     "execution_count": 95,
     "metadata": {},
     "output_type": "execute_result"
    }
   ],
   "source": [
    "features_range"
   ]
  },
  {
   "cell_type": "code",
   "execution_count": 101,
   "id": "amber-reggae",
   "metadata": {},
   "outputs": [],
   "source": [
    "supports = defaultdict()\n",
    "confidences = defaultdict()\n",
    "\n",
    "for c in features_range:\n",
    "    x = len(data.query(f\"{c[0]} > 0\"))\n",
    "    x_and_y = len(data.query(f\"{c[0]} > 0 and {c[1]} > 0\"))\n",
    "    x_and_not_y = len(data.query(f\"{c[0]} > 0 and {c[1]} == 0\"))\n",
    "    support = x_and_y\n",
    "    confidence = x_and_y / x\n",
    "#     print(f'买了{c[0]}, 并且买了{c[1]},\\n support: {support},\\n confidence: {confidence}')\n",
    "    supports[c] = support\n",
    "    confidences[c] = confidence"
   ]
  },
  {
   "cell_type": "code",
   "execution_count": 102,
   "id": "conditional-afghanistan",
   "metadata": {},
   "outputs": [
    {
     "data": {
      "text/plain": [
       "[(('Apples', 'Bananas'), 0.6923076923076923),\n",
       " (('Bread', 'Bananas'), 0.6896551724137931),\n",
       " (('Cheese', 'Bananas'), 0.6578947368421053),\n",
       " (('Milk', 'Bananas'), 0.5918367346938775),\n",
       " (('Bread', 'Milk'), 0.5517241379310345),\n",
       " (('Cheese', 'Apples'), 0.4473684210526316),\n",
       " (('Apples', 'Cheese'), 0.4358974358974359),\n",
       " (('Bananas', 'Milk'), 0.43283582089552236),\n",
       " (('Bananas', 'Apples'), 0.40298507462686567),\n",
       " (('Bread', 'Apples'), 0.3793103448275862),\n",
       " (('Bananas', 'Cheese'), 0.373134328358209),\n",
       " (('Apples', 'Milk'), 0.3333333333333333),\n",
       " (('Milk', 'Bread'), 0.32653061224489793),\n",
       " (('Bananas', 'Bread'), 0.29850746268656714),\n",
       " (('Cheese', 'Milk'), 0.2894736842105263),\n",
       " (('Apples', 'Bread'), 0.28205128205128205),\n",
       " (('Milk', 'Apples'), 0.2653061224489796),\n",
       " (('Milk', 'Cheese'), 0.22448979591836735),\n",
       " (('Bread', 'Cheese'), 0.20689655172413793),\n",
       " (('Cheese', 'Bread'), 0.15789473684210525)]"
      ]
     },
     "execution_count": 102,
     "metadata": {},
     "output_type": "execute_result"
    }
   ],
   "source": [
    "sorted(confidences.items(), key=itemgetter(1), reverse=True)"
   ]
  },
  {
   "cell_type": "code",
   "execution_count": 103,
   "id": "increased-consent",
   "metadata": {},
   "outputs": [
    {
     "data": {
      "text/plain": [
       "[(('Milk', 'Bananas'), 29),\n",
       " (('Bananas', 'Milk'), 29),\n",
       " (('Apples', 'Bananas'), 27),\n",
       " (('Bananas', 'Apples'), 27),\n",
       " (('Cheese', 'Bananas'), 25),\n",
       " (('Bananas', 'Cheese'), 25),\n",
       " (('Bread', 'Bananas'), 20),\n",
       " (('Bananas', 'Bread'), 20),\n",
       " (('Cheese', 'Apples'), 17),\n",
       " (('Apples', 'Cheese'), 17),\n",
       " (('Bread', 'Milk'), 16),\n",
       " (('Milk', 'Bread'), 16),\n",
       " (('Milk', 'Apples'), 13),\n",
       " (('Apples', 'Milk'), 13),\n",
       " (('Bread', 'Apples'), 11),\n",
       " (('Milk', 'Cheese'), 11),\n",
       " (('Cheese', 'Milk'), 11),\n",
       " (('Apples', 'Bread'), 11),\n",
       " (('Bread', 'Cheese'), 6),\n",
       " (('Cheese', 'Bread'), 6)]"
      ]
     },
     "execution_count": 103,
     "metadata": {},
     "output_type": "execute_result"
    }
   ],
   "source": [
    "sorted(supports.items(), key=itemgetter(1), reverse=True)"
   ]
  },
  {
   "cell_type": "markdown",
   "id": "verbal-globe",
   "metadata": {},
   "source": [
    "### 二、Iris分类\n",
    "##### 算法\n",
    "* For 给定的每个特征\n",
    "    * For 该特征对应的真值（即植物是哪一类）\n",
    "        * 预测值：基于该特征预测的次数最多的类，即在所有样本里该特征 10 次有 6 次预测了 A 类，那我们对所有样本都预测为 A 类\n",
    "        * 计算预测值与真值的误差\n",
    "    * 对上面计算的误差求和\n",
    "* 使用误差最小的特征作为最终模型"
   ]
  },
  {
   "cell_type": "code",
   "execution_count": 160,
   "id": "charitable-parallel",
   "metadata": {},
   "outputs": [],
   "source": [
    "from sklearn.datasets import load_iris\n",
    "from sklearn.model_selection import train_test_split\n",
    "from sklearn.metrics import confusion_matrix\n",
    "from sklearn.metrics import classification_report"
   ]
  },
  {
   "cell_type": "code",
   "execution_count": 108,
   "id": "unavailable-thinking",
   "metadata": {},
   "outputs": [],
   "source": [
    "data = load_iris()\n",
    "X = data.data\n",
    "y = data.target\n",
    "n_examples, n_features = X.shape"
   ]
  },
  {
   "cell_type": "code",
   "execution_count": 136,
   "id": "interesting-connecticut",
   "metadata": {},
   "outputs": [],
   "source": [
    "attribute_mean = X.mean(axis=0)\n",
    "assert attribute_mean.shape == (n_features, )\n",
    "X_d = np.asarray(X >= attribute_mean, dtype='int')"
   ]
  },
  {
   "cell_type": "code",
   "execution_count": 137,
   "id": "caroline-princess",
   "metadata": {},
   "outputs": [],
   "source": [
    "X_train, X_test, y_train, y_test = train_test_split(X_d, y, random_state=2021)"
   ]
  },
  {
   "cell_type": "code",
   "execution_count": 147,
   "id": "shared-samoa",
   "metadata": {},
   "outputs": [],
   "source": [
    "def train(X, y_true, feature):\n",
    "    n_samples, n_features = X.shape\n",
    "    assert 0 <= feature < n_features\n",
    "    values = set(X[:, feature])\n",
    "    predictors = dict()\n",
    "    errors = []\n",
    "    for current in values:\n",
    "        most_frequent_class, error = train_feature_value(X, y_true, feature, current)\n",
    "        predictors[current] = most_frequent_class\n",
    "        errors.append(error)\n",
    "    total_error = sum(errors)\n",
    "    return predictors, total_error\n",
    "    \n",
    "def train_feature_value(X, y_true, feature, value):\n",
    "    class_counts = defaultdict(int)\n",
    "    for sample, y in zip(X, y_true):\n",
    "        if sample[feature] == value:\n",
    "            class_counts[y] += 1\n",
    "    sorted_class_counts = sorted(class_counts.items(), key=itemgetter(1), reverse=True)\n",
    "    most_frequent_class = sorted_class_counts[0][0]\n",
    "    n_samples = X.shape[1]\n",
    "    error = sum([class_count for class_value, class_count in class_counts.items() if class_value != most_frequent_class])\n",
    "    return most_frequent_class, error"
   ]
  },
  {
   "cell_type": "code",
   "execution_count": 151,
   "id": "instrumental-blocking",
   "metadata": {},
   "outputs": [
    {
     "name": "stdout",
     "output_type": "stream",
     "text": [
      "最佳模型基于第 2 个变量，误差为 36.00\n"
     ]
    }
   ],
   "source": [
    "all_predictors = {variable: train(X_train, y_train, variable) for variable in range(X_train.shape[1])}\n",
    "errors = {variable: error for variable, (mapping, error) in all_predictors.items()}\n",
    "best_variable, best_error = sorted(errors.items(), key=itemgetter(1))[0]\n",
    "print(\"最佳模型基于第 {0} 个变量，误差为 {1:.2f}\".format(best_variable, best_error))\n",
    "model = {\n",
    "    'variable': best_variable, \n",
    "    'predictor': all_predictors[best_variable][0]\n",
    "}"
   ]
  },
  {
   "cell_type": "code",
   "execution_count": 155,
   "id": "occasional-detection",
   "metadata": {},
   "outputs": [],
   "source": [
    "def predict(model, X_test):\n",
    "    variable = model['variable']\n",
    "    predictor = model['predictor']\n",
    "    y_pred = np.array([predictor[int(sample[variable])] for sample in X_test])\n",
    "    return y_pred"
   ]
  },
  {
   "cell_type": "code",
   "execution_count": 166,
   "id": "professional-bishop",
   "metadata": {},
   "outputs": [
    {
     "name": "stdout",
     "output_type": "stream",
     "text": [
      "在测试集上的准确率 63.2%\n"
     ]
    }
   ],
   "source": [
    "y_pred = predict(model, X_test)\n",
    "acc = np.mean(y_pred == y_test) * 100\n",
    "print(\"在测试集上的准确率 {:.1f}%\".format(acc))"
   ]
  },
  {
   "cell_type": "code",
   "execution_count": 159,
   "id": "western-absence",
   "metadata": {},
   "outputs": [
    {
     "data": {
      "text/plain": [
       "array([[16,  0,  0],\n",
       "       [ 1,  0, 13],\n",
       "       [ 0,  0,  8]])"
      ]
     },
     "execution_count": 159,
     "metadata": {},
     "output_type": "execute_result"
    }
   ],
   "source": [
    "confusion_matrix(y_test, y_pred)"
   ]
  },
  {
   "cell_type": "code",
   "execution_count": 164,
   "id": "reverse-party",
   "metadata": {},
   "outputs": [
    {
     "name": "stdout",
     "output_type": "stream",
     "text": [
      "              precision    recall  f1-score   support\n",
      "\n",
      "           0       0.94      1.00      0.97        16\n",
      "           1       0.00      0.00      0.00        14\n",
      "           2       0.38      1.00      0.55         8\n",
      "\n",
      "    accuracy                           0.63        38\n",
      "   macro avg       0.44      0.67      0.51        38\n",
      "weighted avg       0.48      0.63      0.52        38\n",
      "\n"
     ]
    }
   ],
   "source": [
    "print(classification_report(y_test, y_pred))"
   ]
  },
  {
   "cell_type": "code",
   "execution_count": null,
   "id": "baking-rainbow",
   "metadata": {},
   "outputs": [],
   "source": []
  }
 ],
 "metadata": {
  "kernelspec": {
   "display_name": "Python 3",
   "language": "python",
   "name": "python3"
  },
  "language_info": {
   "codemirror_mode": {
    "name": "ipython",
    "version": 3
   },
   "file_extension": ".py",
   "mimetype": "text/x-python",
   "name": "python",
   "nbconvert_exporter": "python",
   "pygments_lexer": "ipython3",
   "version": "3.8.0"
  }
 },
 "nbformat": 4,
 "nbformat_minor": 5
}
