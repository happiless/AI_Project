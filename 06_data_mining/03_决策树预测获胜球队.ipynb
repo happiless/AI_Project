{
 "cells": [
  {
   "cell_type": "markdown",
   "id": "finnish-heading",
   "metadata": {},
   "source": [
    "### 决策树\n",
    "剪枝: 先创建一棵完整的树，再对其进行修剪，去掉对整个过程没有提供太多信息的节点<br>\n",
    "- min_samples_split：指定创建一个新节点至少需要的个体数量。<br>\n",
    "- min_samples_leaf：指定为了保留节点，每个节点至少应该包含的个体数量。<br>\n",
    "\n",
    "##### 决策树的另一个参数是创建决策的标准，常用的有以下两个。\n",
    "- 基尼不纯度（Gini impurity）：用于衡量决策节点错误预测新个体类别的比例。<br>\n",
    "- 信息增益（Information gain）：用信息论中的熵来表示决策节点提供多少新信息。<br>"
   ]
  },
  {
   "cell_type": "code",
   "execution_count": null,
   "id": "champion-mainstream",
   "metadata": {},
   "outputs": [],
   "source": [
    "import numpy as np\n",
    "from collections import defaultdict\n",
    "import pandas as pd\n",
    "\n",
    "from sklearn.tree import DecisionTreeClassifier\n",
    "from sklearn.model_selection import cross_val_score"
   ]
  },
  {
   "cell_type": "code",
   "execution_count": 34,
   "id": "interested-stylus",
   "metadata": {},
   "outputs": [],
   "source": [
    "data = pd.read_csv('./data/leagues_NBA_2014_games_games.zip', parse_dates=[\"Date\"], compression='zip')"
   ]
  },
  {
   "cell_type": "code",
   "execution_count": 35,
   "id": "former-block",
   "metadata": {},
   "outputs": [
    {
     "data": {
      "text/html": [
       "<div>\n",
       "<style scoped>\n",
       "    .dataframe tbody tr th:only-of-type {\n",
       "        vertical-align: middle;\n",
       "    }\n",
       "\n",
       "    .dataframe tbody tr th {\n",
       "        vertical-align: top;\n",
       "    }\n",
       "\n",
       "    .dataframe thead th {\n",
       "        text-align: right;\n",
       "    }\n",
       "</style>\n",
       "<table border=\"1\" class=\"dataframe\">\n",
       "  <thead>\n",
       "    <tr style=\"text-align: right;\">\n",
       "      <th></th>\n",
       "      <th>VisitorPts</th>\n",
       "      <th>HomePts</th>\n",
       "    </tr>\n",
       "  </thead>\n",
       "  <tbody>\n",
       "    <tr>\n",
       "      <th>count</th>\n",
       "      <td>1230.000000</td>\n",
       "      <td>1230.000000</td>\n",
       "    </tr>\n",
       "    <tr>\n",
       "      <th>mean</th>\n",
       "      <td>99.710569</td>\n",
       "      <td>102.307317</td>\n",
       "    </tr>\n",
       "    <tr>\n",
       "      <th>std</th>\n",
       "      <td>11.738712</td>\n",
       "      <td>11.844457</td>\n",
       "    </tr>\n",
       "    <tr>\n",
       "      <th>min</th>\n",
       "      <td>66.000000</td>\n",
       "      <td>67.000000</td>\n",
       "    </tr>\n",
       "    <tr>\n",
       "      <th>25%</th>\n",
       "      <td>92.000000</td>\n",
       "      <td>94.000000</td>\n",
       "    </tr>\n",
       "    <tr>\n",
       "      <th>50%</th>\n",
       "      <td>99.000000</td>\n",
       "      <td>102.000000</td>\n",
       "    </tr>\n",
       "    <tr>\n",
       "      <th>75%</th>\n",
       "      <td>107.000000</td>\n",
       "      <td>110.000000</td>\n",
       "    </tr>\n",
       "    <tr>\n",
       "      <th>max</th>\n",
       "      <td>145.000000</td>\n",
       "      <td>143.000000</td>\n",
       "    </tr>\n",
       "  </tbody>\n",
       "</table>\n",
       "</div>"
      ],
      "text/plain": [
       "        VisitorPts      HomePts\n",
       "count  1230.000000  1230.000000\n",
       "mean     99.710569   102.307317\n",
       "std      11.738712    11.844457\n",
       "min      66.000000    67.000000\n",
       "25%      92.000000    94.000000\n",
       "50%      99.000000   102.000000\n",
       "75%     107.000000   110.000000\n",
       "max     145.000000   143.000000"
      ]
     },
     "execution_count": 35,
     "metadata": {},
     "output_type": "execute_result"
    }
   ],
   "source": [
    "data.describe()"
   ]
  },
  {
   "cell_type": "code",
   "execution_count": 36,
   "id": "formal-accent",
   "metadata": {},
   "outputs": [],
   "source": [
    "data['HomeWin'] = data['HomePts'] > data['VisitorPts']\n",
    "data['HomeLastWin'] = False\n",
    "data['VisitorLastWin'] = False\n",
    "y_true = data['HomeWin'].values"
   ]
  },
  {
   "cell_type": "code",
   "execution_count": 37,
   "id": "boring-adobe",
   "metadata": {},
   "outputs": [],
   "source": [
    "win_last = defaultdict(int)\n",
    "for index, row in data.iterrows():\n",
    "    home_team = row['Home Team']\n",
    "    visitor_team = row['Visitor Team']\n",
    "    row['HomeLastWin'] = win_last[home_team]\n",
    "    row['VisitorLastWin'] = win_last[visitor_team]\n",
    "    data.iloc[index] = row\n",
    "    win_last[home_team] = row['HomeWin']\n",
    "    win_last[visitor_team] = not row['HomeWin']"
   ]
  },
  {
   "cell_type": "code",
   "execution_count": 38,
   "id": "upset-dragon",
   "metadata": {},
   "outputs": [
    {
     "data": {
      "text/html": [
       "<div>\n",
       "<style scoped>\n",
       "    .dataframe tbody tr th:only-of-type {\n",
       "        vertical-align: middle;\n",
       "    }\n",
       "\n",
       "    .dataframe tbody tr th {\n",
       "        vertical-align: top;\n",
       "    }\n",
       "\n",
       "    .dataframe thead th {\n",
       "        text-align: right;\n",
       "    }\n",
       "</style>\n",
       "<table border=\"1\" class=\"dataframe\">\n",
       "  <thead>\n",
       "    <tr style=\"text-align: right;\">\n",
       "      <th></th>\n",
       "      <th>Date</th>\n",
       "      <th>Score Type</th>\n",
       "      <th>Visitor Team</th>\n",
       "      <th>VisitorPts</th>\n",
       "      <th>Home Team</th>\n",
       "      <th>HomePts</th>\n",
       "      <th>OT?</th>\n",
       "      <th>Notes</th>\n",
       "      <th>HomeWin</th>\n",
       "      <th>HomeLastWin</th>\n",
       "      <th>VisitorLastWin</th>\n",
       "    </tr>\n",
       "  </thead>\n",
       "  <tbody>\n",
       "    <tr>\n",
       "      <th>20</th>\n",
       "      <td>2013-11-01</td>\n",
       "      <td>Box Score</td>\n",
       "      <td>Milwaukee Bucks</td>\n",
       "      <td>105</td>\n",
       "      <td>Boston Celtics</td>\n",
       "      <td>98</td>\n",
       "      <td>NaN</td>\n",
       "      <td>NaN</td>\n",
       "      <td>False</td>\n",
       "      <td>False</td>\n",
       "      <td>False</td>\n",
       "    </tr>\n",
       "    <tr>\n",
       "      <th>21</th>\n",
       "      <td>2013-11-01</td>\n",
       "      <td>Box Score</td>\n",
       "      <td>Miami Heat</td>\n",
       "      <td>100</td>\n",
       "      <td>Brooklyn Nets</td>\n",
       "      <td>101</td>\n",
       "      <td>NaN</td>\n",
       "      <td>NaN</td>\n",
       "      <td>True</td>\n",
       "      <td>False</td>\n",
       "      <td>False</td>\n",
       "    </tr>\n",
       "    <tr>\n",
       "      <th>22</th>\n",
       "      <td>2013-11-01</td>\n",
       "      <td>Box Score</td>\n",
       "      <td>Cleveland Cavaliers</td>\n",
       "      <td>84</td>\n",
       "      <td>Charlotte Bobcats</td>\n",
       "      <td>90</td>\n",
       "      <td>NaN</td>\n",
       "      <td>NaN</td>\n",
       "      <td>True</td>\n",
       "      <td>False</td>\n",
       "      <td>True</td>\n",
       "    </tr>\n",
       "    <tr>\n",
       "      <th>23</th>\n",
       "      <td>2013-11-01</td>\n",
       "      <td>Box Score</td>\n",
       "      <td>Portland Trail Blazers</td>\n",
       "      <td>113</td>\n",
       "      <td>Denver Nuggets</td>\n",
       "      <td>98</td>\n",
       "      <td>NaN</td>\n",
       "      <td>NaN</td>\n",
       "      <td>False</td>\n",
       "      <td>False</td>\n",
       "      <td>False</td>\n",
       "    </tr>\n",
       "    <tr>\n",
       "      <th>24</th>\n",
       "      <td>2013-11-01</td>\n",
       "      <td>Box Score</td>\n",
       "      <td>Dallas Mavericks</td>\n",
       "      <td>105</td>\n",
       "      <td>Houston Rockets</td>\n",
       "      <td>113</td>\n",
       "      <td>NaN</td>\n",
       "      <td>NaN</td>\n",
       "      <td>True</td>\n",
       "      <td>True</td>\n",
       "      <td>True</td>\n",
       "    </tr>\n",
       "  </tbody>\n",
       "</table>\n",
       "</div>"
      ],
      "text/plain": [
       "         Date Score Type            Visitor Team  VisitorPts  \\\n",
       "20 2013-11-01  Box Score         Milwaukee Bucks         105   \n",
       "21 2013-11-01  Box Score              Miami Heat         100   \n",
       "22 2013-11-01  Box Score     Cleveland Cavaliers          84   \n",
       "23 2013-11-01  Box Score  Portland Trail Blazers         113   \n",
       "24 2013-11-01  Box Score        Dallas Mavericks         105   \n",
       "\n",
       "            Home Team  HomePts  OT? Notes  HomeWin HomeLastWin VisitorLastWin  \n",
       "20     Boston Celtics       98  NaN   NaN    False       False          False  \n",
       "21      Brooklyn Nets      101  NaN   NaN     True       False          False  \n",
       "22  Charlotte Bobcats       90  NaN   NaN     True       False           True  \n",
       "23     Denver Nuggets       98  NaN   NaN    False       False          False  \n",
       "24    Houston Rockets      113  NaN   NaN     True        True           True  "
      ]
     },
     "execution_count": 38,
     "metadata": {},
     "output_type": "execute_result"
    }
   ],
   "source": [
    "data.iloc[20:25]"
   ]
  },
  {
   "cell_type": "code",
   "execution_count": 39,
   "id": "widespread-bible",
   "metadata": {},
   "outputs": [
    {
     "name": "stdout",
     "output_type": "stream",
     "text": [
      "Accuracy: 59.2%\n"
     ]
    }
   ],
   "source": [
    "clf = DecisionTreeClassifier(random_state=2021)\n",
    "X_previous_wins = data[['HomeLastWin', 'VisitorLastWin']].values\n",
    "scores = cross_val_score(clf, X_previous_wins, y_true, scoring='accuracy')\n",
    "print(\"Accuracy: {0:.1f}%\".format(np.mean(scores) * 100))"
   ]
  },
  {
   "cell_type": "code",
   "execution_count": 40,
   "id": "opposite-envelope",
   "metadata": {},
   "outputs": [],
   "source": [
    "data['HomeWithStreak'] = 0\n",
    "data['VisitorWithStreak'] = 0\n",
    "win_streak = defaultdict(int)\n",
    "for index, row in data.iterrows():\n",
    "    home_team = row['Home Team']\n",
    "    visitor_team = row['Visitor Team']\n",
    "    row['HomeWithStreak'] = win_streak[home_team]\n",
    "    row['VisitorWithStreak'] = win_streak[visitor_team]\n",
    "    data.iloc[index] = row\n",
    "    if row['HomeWin']:\n",
    "        win_streak[home_team] += 1\n",
    "        win_streak[visitor_team] += 0\n",
    "    else:\n",
    "        win_streak[home_team] += 0\n",
    "        win_streak[visitor_team] += 1"
   ]
  },
  {
   "cell_type": "code",
   "execution_count": 41,
   "id": "recreational-scotland",
   "metadata": {},
   "outputs": [
    {
     "name": "stdout",
     "output_type": "stream",
     "text": [
      "Accuracy: 54.8%\n"
     ]
    }
   ],
   "source": [
    "X_win_streak = data[['HomeLastWin', 'VisitorLastWin', 'HomeWithStreak', 'VisitorWithStreak']].values\n",
    "scores = cross_val_score(clf, X_win_streak, y_true, scoring='accuracy')\n",
    "print(\"Accuracy: {0:.1f}%\".format(np.mean(scores) * 100))"
   ]
  },
  {
   "cell_type": "code",
   "execution_count": 42,
   "id": "studied-glossary",
   "metadata": {},
   "outputs": [
    {
     "data": {
      "text/html": [
       "<div>\n",
       "<style scoped>\n",
       "    .dataframe tbody tr th:only-of-type {\n",
       "        vertical-align: middle;\n",
       "    }\n",
       "\n",
       "    .dataframe tbody tr th {\n",
       "        vertical-align: top;\n",
       "    }\n",
       "\n",
       "    .dataframe thead th {\n",
       "        text-align: right;\n",
       "    }\n",
       "</style>\n",
       "<table border=\"1\" class=\"dataframe\">\n",
       "  <thead>\n",
       "    <tr style=\"text-align: right;\">\n",
       "      <th></th>\n",
       "      <th>Rk</th>\n",
       "      <th>Team</th>\n",
       "      <th>Overall</th>\n",
       "      <th>Home</th>\n",
       "      <th>Road</th>\n",
       "      <th>E</th>\n",
       "      <th>W</th>\n",
       "      <th>A</th>\n",
       "      <th>C</th>\n",
       "      <th>SE</th>\n",
       "      <th>...</th>\n",
       "      <th>Post</th>\n",
       "      <th>≤3</th>\n",
       "      <th>≥10</th>\n",
       "      <th>Oct</th>\n",
       "      <th>Nov</th>\n",
       "      <th>Dec</th>\n",
       "      <th>Jan</th>\n",
       "      <th>Feb</th>\n",
       "      <th>Mar</th>\n",
       "      <th>Apr</th>\n",
       "    </tr>\n",
       "  </thead>\n",
       "  <tbody>\n",
       "    <tr>\n",
       "      <th>0</th>\n",
       "      <td>1</td>\n",
       "      <td>Miami Heat</td>\n",
       "      <td>66-16</td>\n",
       "      <td>37-4</td>\n",
       "      <td>29-12</td>\n",
       "      <td>41-11</td>\n",
       "      <td>25-5</td>\n",
       "      <td>14-4</td>\n",
       "      <td>12-6</td>\n",
       "      <td>15-1</td>\n",
       "      <td>...</td>\n",
       "      <td>30-2</td>\n",
       "      <td>9-3</td>\n",
       "      <td>39-8</td>\n",
       "      <td>1-0</td>\n",
       "      <td>10-3</td>\n",
       "      <td>10-5</td>\n",
       "      <td>8-5</td>\n",
       "      <td>12-1</td>\n",
       "      <td>17-1</td>\n",
       "      <td>8-1</td>\n",
       "    </tr>\n",
       "    <tr>\n",
       "      <th>1</th>\n",
       "      <td>2</td>\n",
       "      <td>Oklahoma City Thunder</td>\n",
       "      <td>60-22</td>\n",
       "      <td>34-7</td>\n",
       "      <td>26-15</td>\n",
       "      <td>21-9</td>\n",
       "      <td>39-13</td>\n",
       "      <td>7-3</td>\n",
       "      <td>8-2</td>\n",
       "      <td>6-4</td>\n",
       "      <td>...</td>\n",
       "      <td>21-8</td>\n",
       "      <td>3-6</td>\n",
       "      <td>44-6</td>\n",
       "      <td>NaN</td>\n",
       "      <td>13-4</td>\n",
       "      <td>11-2</td>\n",
       "      <td>11-5</td>\n",
       "      <td>7-4</td>\n",
       "      <td>12-5</td>\n",
       "      <td>6-2</td>\n",
       "    </tr>\n",
       "    <tr>\n",
       "      <th>2</th>\n",
       "      <td>3</td>\n",
       "      <td>San Antonio Spurs</td>\n",
       "      <td>58-24</td>\n",
       "      <td>35-6</td>\n",
       "      <td>23-18</td>\n",
       "      <td>25-5</td>\n",
       "      <td>33-19</td>\n",
       "      <td>8-2</td>\n",
       "      <td>9-1</td>\n",
       "      <td>8-2</td>\n",
       "      <td>...</td>\n",
       "      <td>16-12</td>\n",
       "      <td>9-5</td>\n",
       "      <td>31-10</td>\n",
       "      <td>1-0</td>\n",
       "      <td>12-4</td>\n",
       "      <td>12-4</td>\n",
       "      <td>12-3</td>\n",
       "      <td>8-3</td>\n",
       "      <td>10-4</td>\n",
       "      <td>3-6</td>\n",
       "    </tr>\n",
       "    <tr>\n",
       "      <th>3</th>\n",
       "      <td>4</td>\n",
       "      <td>Denver Nuggets</td>\n",
       "      <td>57-25</td>\n",
       "      <td>38-3</td>\n",
       "      <td>19-22</td>\n",
       "      <td>19-11</td>\n",
       "      <td>38-14</td>\n",
       "      <td>5-5</td>\n",
       "      <td>10-0</td>\n",
       "      <td>4-6</td>\n",
       "      <td>...</td>\n",
       "      <td>24-4</td>\n",
       "      <td>11-7</td>\n",
       "      <td>28-8</td>\n",
       "      <td>0-1</td>\n",
       "      <td>8-8</td>\n",
       "      <td>9-6</td>\n",
       "      <td>12-3</td>\n",
       "      <td>8-4</td>\n",
       "      <td>13-2</td>\n",
       "      <td>7-1</td>\n",
       "    </tr>\n",
       "    <tr>\n",
       "      <th>4</th>\n",
       "      <td>5</td>\n",
       "      <td>Los Angeles Clippers</td>\n",
       "      <td>56-26</td>\n",
       "      <td>32-9</td>\n",
       "      <td>24-17</td>\n",
       "      <td>21-9</td>\n",
       "      <td>35-17</td>\n",
       "      <td>7-3</td>\n",
       "      <td>8-2</td>\n",
       "      <td>6-4</td>\n",
       "      <td>...</td>\n",
       "      <td>17-9</td>\n",
       "      <td>3-5</td>\n",
       "      <td>38-12</td>\n",
       "      <td>1-0</td>\n",
       "      <td>8-6</td>\n",
       "      <td>16-0</td>\n",
       "      <td>9-7</td>\n",
       "      <td>8-5</td>\n",
       "      <td>7-7</td>\n",
       "      <td>7-1</td>\n",
       "    </tr>\n",
       "  </tbody>\n",
       "</table>\n",
       "<p>5 rows × 24 columns</p>\n",
       "</div>"
      ],
      "text/plain": [
       "   Rk                   Team Overall  Home   Road      E      W     A     C  \\\n",
       "0   1             Miami Heat   66-16  37-4  29-12  41-11   25-5  14-4  12-6   \n",
       "1   2  Oklahoma City Thunder   60-22  34-7  26-15   21-9  39-13   7-3   8-2   \n",
       "2   3      San Antonio Spurs   58-24  35-6  23-18   25-5  33-19   8-2   9-1   \n",
       "3   4         Denver Nuggets   57-25  38-3  19-22  19-11  38-14   5-5  10-0   \n",
       "4   5   Los Angeles Clippers   56-26  32-9  24-17   21-9  35-17   7-3   8-2   \n",
       "\n",
       "     SE  ...   Post    ≤3    ≥10  Oct   Nov   Dec   Jan   Feb   Mar  Apr  \n",
       "0  15-1  ...   30-2   9-3   39-8  1-0  10-3  10-5   8-5  12-1  17-1  8-1  \n",
       "1   6-4  ...   21-8   3-6   44-6  NaN  13-4  11-2  11-5   7-4  12-5  6-2  \n",
       "2   8-2  ...  16-12   9-5  31-10  1-0  12-4  12-4  12-3   8-3  10-4  3-6  \n",
       "3   4-6  ...   24-4  11-7   28-8  0-1   8-8   9-6  12-3   8-4  13-2  7-1  \n",
       "4   6-4  ...   17-9   3-5  38-12  1-0   8-6  16-0   9-7   8-5   7-7  7-1  \n",
       "\n",
       "[5 rows x 24 columns]"
      ]
     },
     "execution_count": 42,
     "metadata": {},
     "output_type": "execute_result"
    }
   ],
   "source": [
    "ladder = pd.read_csv('./data/leagues_NBA_2013_standings_expanded-standings.zip', compression='zip')\n",
    "ladder.head()"
   ]
  },
  {
   "cell_type": "code",
   "execution_count": 43,
   "id": "hungry-singer",
   "metadata": {},
   "outputs": [
    {
     "data": {
      "text/html": [
       "<div>\n",
       "<style scoped>\n",
       "    .dataframe tbody tr th:only-of-type {\n",
       "        vertical-align: middle;\n",
       "    }\n",
       "\n",
       "    .dataframe tbody tr th {\n",
       "        vertical-align: top;\n",
       "    }\n",
       "\n",
       "    .dataframe thead th {\n",
       "        text-align: right;\n",
       "    }\n",
       "</style>\n",
       "<table border=\"1\" class=\"dataframe\">\n",
       "  <thead>\n",
       "    <tr style=\"text-align: right;\">\n",
       "      <th></th>\n",
       "      <th>Date</th>\n",
       "      <th>Score Type</th>\n",
       "      <th>Visitor Team</th>\n",
       "      <th>VisitorPts</th>\n",
       "      <th>Home Team</th>\n",
       "      <th>HomePts</th>\n",
       "      <th>OT?</th>\n",
       "      <th>Notes</th>\n",
       "      <th>HomeWin</th>\n",
       "      <th>HomeLastWin</th>\n",
       "      <th>VisitorLastWin</th>\n",
       "      <th>HomeWithStreak</th>\n",
       "      <th>VisitorWithStreak</th>\n",
       "      <th>HomeTeamRankHigher</th>\n",
       "    </tr>\n",
       "  </thead>\n",
       "  <tbody>\n",
       "    <tr>\n",
       "      <th>0</th>\n",
       "      <td>2013-10-29</td>\n",
       "      <td>Box Score</td>\n",
       "      <td>Orlando Magic</td>\n",
       "      <td>87</td>\n",
       "      <td>Indiana Pacers</td>\n",
       "      <td>97</td>\n",
       "      <td>NaN</td>\n",
       "      <td>NaN</td>\n",
       "      <td>True</td>\n",
       "      <td>0</td>\n",
       "      <td>0</td>\n",
       "      <td>0</td>\n",
       "      <td>0</td>\n",
       "      <td>0</td>\n",
       "    </tr>\n",
       "    <tr>\n",
       "      <th>1</th>\n",
       "      <td>2013-10-29</td>\n",
       "      <td>Box Score</td>\n",
       "      <td>Los Angeles Clippers</td>\n",
       "      <td>103</td>\n",
       "      <td>Los Angeles Lakers</td>\n",
       "      <td>116</td>\n",
       "      <td>NaN</td>\n",
       "      <td>NaN</td>\n",
       "      <td>True</td>\n",
       "      <td>0</td>\n",
       "      <td>0</td>\n",
       "      <td>0</td>\n",
       "      <td>0</td>\n",
       "      <td>1</td>\n",
       "    </tr>\n",
       "    <tr>\n",
       "      <th>2</th>\n",
       "      <td>2013-10-29</td>\n",
       "      <td>Box Score</td>\n",
       "      <td>Chicago Bulls</td>\n",
       "      <td>95</td>\n",
       "      <td>Miami Heat</td>\n",
       "      <td>107</td>\n",
       "      <td>NaN</td>\n",
       "      <td>NaN</td>\n",
       "      <td>True</td>\n",
       "      <td>0</td>\n",
       "      <td>0</td>\n",
       "      <td>0</td>\n",
       "      <td>0</td>\n",
       "      <td>0</td>\n",
       "    </tr>\n",
       "    <tr>\n",
       "      <th>3</th>\n",
       "      <td>2013-10-30</td>\n",
       "      <td>Box Score</td>\n",
       "      <td>Brooklyn Nets</td>\n",
       "      <td>94</td>\n",
       "      <td>Cleveland Cavaliers</td>\n",
       "      <td>98</td>\n",
       "      <td>NaN</td>\n",
       "      <td>NaN</td>\n",
       "      <td>True</td>\n",
       "      <td>0</td>\n",
       "      <td>0</td>\n",
       "      <td>0</td>\n",
       "      <td>0</td>\n",
       "      <td>1</td>\n",
       "    </tr>\n",
       "    <tr>\n",
       "      <th>4</th>\n",
       "      <td>2013-10-30</td>\n",
       "      <td>Box Score</td>\n",
       "      <td>Atlanta Hawks</td>\n",
       "      <td>109</td>\n",
       "      <td>Dallas Mavericks</td>\n",
       "      <td>118</td>\n",
       "      <td>NaN</td>\n",
       "      <td>NaN</td>\n",
       "      <td>True</td>\n",
       "      <td>0</td>\n",
       "      <td>0</td>\n",
       "      <td>0</td>\n",
       "      <td>0</td>\n",
       "      <td>1</td>\n",
       "    </tr>\n",
       "  </tbody>\n",
       "</table>\n",
       "</div>"
      ],
      "text/plain": [
       "        Date Score Type          Visitor Team  VisitorPts  \\\n",
       "0 2013-10-29  Box Score         Orlando Magic          87   \n",
       "1 2013-10-29  Box Score  Los Angeles Clippers         103   \n",
       "2 2013-10-29  Box Score         Chicago Bulls          95   \n",
       "3 2013-10-30  Box Score         Brooklyn Nets          94   \n",
       "4 2013-10-30  Box Score         Atlanta Hawks         109   \n",
       "\n",
       "             Home Team  HomePts  OT? Notes  HomeWin HomeLastWin  \\\n",
       "0       Indiana Pacers       97  NaN   NaN     True           0   \n",
       "1   Los Angeles Lakers      116  NaN   NaN     True           0   \n",
       "2           Miami Heat      107  NaN   NaN     True           0   \n",
       "3  Cleveland Cavaliers       98  NaN   NaN     True           0   \n",
       "4     Dallas Mavericks      118  NaN   NaN     True           0   \n",
       "\n",
       "  VisitorLastWin  HomeWithStreak  VisitorWithStreak  HomeTeamRankHigher  \n",
       "0              0               0                  0                   0  \n",
       "1              0               0                  0                   1  \n",
       "2              0               0                  0                   0  \n",
       "3              0               0                  0                   1  \n",
       "4              0               0                  0                   1  "
      ]
     },
     "execution_count": 43,
     "metadata": {},
     "output_type": "execute_result"
    }
   ],
   "source": [
    "data['HomeTeamRankHigher'] = 0\n",
    "for index, row in data.iterrows():\n",
    "    home_team = row['Home Team']\n",
    "    visitor_team = row['Visitor Team']\n",
    "    if home_team == \"New Orleans Pelicans\":\n",
    "        home_team = \"New Orleans Hornets\"\n",
    "    elif visitor_team == \"New Orleans Pelicans\":\n",
    "        visitor_team = \"New Orleans Hornets\"\n",
    "    home_rank = ladder[ladder['Team'] == home_team]['Rk'].values[0]\n",
    "    visitor_rank = ladder[ladder['Team'] == visitor_team]['Rk'].values[0]\n",
    "    row['HomeTeamRankHigher'] = int(home_rank > visitor_rank)\n",
    "    data.iloc[index] = row\n",
    "data[:5]"
   ]
  },
  {
   "cell_type": "code",
   "execution_count": 44,
   "id": "tamil-deficit",
   "metadata": {},
   "outputs": [
    {
     "name": "stdout",
     "output_type": "stream",
     "text": [
      "准确率: 60.3%\n"
     ]
    }
   ],
   "source": [
    "X_home_higher = data[[\"HomeLastWin\", \"VisitorLastWin\", \"HomeTeamRankHigher\"]].values\n",
    "scores = cross_val_score(clf, X_home_higher, y_true, scoring='accuracy')\n",
    "print(\"准确率: {0:.1f}%\".format(np.mean(scores) * 100))"
   ]
  },
  {
   "cell_type": "code",
   "execution_count": 49,
   "id": "exceptional-measure",
   "metadata": {},
   "outputs": [],
   "source": [
    "from sklearn.model_selection import GridSearchCV"
   ]
  },
  {
   "cell_type": "code",
   "execution_count": 50,
   "id": "insured-retailer",
   "metadata": {},
   "outputs": [
    {
     "name": "stdout",
     "output_type": "stream",
     "text": [
      "准确率: 60.6%\n"
     ]
    }
   ],
   "source": [
    "parameter_space = {\"max_depth\": list(range(1, 21))}\n",
    "grid = GridSearchCV(clf, parameter_space)\n",
    "grid.fit(X_home_higher, y_true)\n",
    "print(\"准确率: {0:.1f}%\".format(grid.best_score_ * 100))"
   ]
  },
  {
   "cell_type": "code",
   "execution_count": 56,
   "id": "dress-wheel",
   "metadata": {},
   "outputs": [
    {
     "name": "stderr",
     "output_type": "stream",
     "text": [
      "<ipython-input-56-6bc7b4e7fdb3>:8: FutureWarning: \n",
      ".ix is deprecated. Please use\n",
      ".loc for label based indexing or\n",
      ".iloc for positional indexing\n",
      "\n",
      "See the documentation here:\n",
      "http://pandas.pydata.org/pandas-docs/stable/user_guide/indexing.html#ix-indexer-is-deprecated\n",
      "  data.ix[index] = row\n"
     ]
    }
   ],
   "source": [
    "last_match_winner = defaultdict(int)\n",
    "data['HomeTeamWinLast'] = 0\n",
    "for index, row in data.iterrows():\n",
    "    home_team = row['Home Team']\n",
    "    visitor_team = row['Visitor Team']\n",
    "    teams = tuple(sorted([home_team, visitor_team]))\n",
    "    row['HomeTeamWinLast'] = 1 if last_match_winner[teams] == home_team else 0\n",
    "    data.ix[index] = row\n",
    "    winner = home_team if row['HomeWin'] else visitor_team\n",
    "    last_match_winner[teams] = winner"
   ]
  },
  {
   "cell_type": "code",
   "execution_count": 60,
   "id": "floral-rebecca",
   "metadata": {},
   "outputs": [
    {
     "name": "stdout",
     "output_type": "stream",
     "text": [
      "准确率: 60.6%\n"
     ]
    }
   ],
   "source": [
    "X_home_higher = data[[\"HomeTeamRankHigher\", \"HomeTeamWinLast\"]].values\n",
    "scores = cross_val_score(clf, X_home_higher, y_true, scoring='accuracy')\n",
    "print(\"准确率: {0:.1f}%\".format(np.mean(scores) * 100))"
   ]
  },
  {
   "cell_type": "code",
   "execution_count": 61,
   "id": "typical-birthday",
   "metadata": {},
   "outputs": [
    {
     "name": "stdout",
     "output_type": "stream",
     "text": [
      "准确率: 60.0%\n"
     ]
    }
   ],
   "source": [
    "from sklearn.preprocessing import LabelEncoder, OneHotEncoder\n",
    "encoding = LabelEncoder()\n",
    "encoding.fit(data['Home Team'].values)\n",
    "home_teams = encoding.transform(data['Home Team'].values)\n",
    "visitor_teams = encoding.transform(data['Visitor Team'].values)\n",
    "X_teams = np.vstack([home_teams, visitor_teams]).T\n",
    "onehot = OneHotEncoder()\n",
    "X_teams = onehot.fit_transform(X_teams).todense()\n",
    "scores = cross_val_score(clf, X_teams, y_true, scoring='accuracy')\n",
    "print(\"准确率: {0:.1f}%\".format(np.mean(scores) * 100))"
   ]
  },
  {
   "cell_type": "code",
   "execution_count": 62,
   "id": "crude-chance",
   "metadata": {},
   "outputs": [
    {
     "name": "stdout",
     "output_type": "stream",
     "text": [
      "准确率: 61.5%\n"
     ]
    }
   ],
   "source": [
    "from sklearn.ensemble import RandomForestClassifier\n",
    "clf = RandomForestClassifier(random_state=2021)\n",
    "scores = cross_val_score(clf, X_teams, y_true, scoring='accuracy')\n",
    "print(\"准确率: {0:.1f}%\".format(np.mean(scores) * 100))"
   ]
  },
  {
   "cell_type": "code",
   "execution_count": 67,
   "id": "portuguese-short",
   "metadata": {},
   "outputs": [
    {
     "name": "stdout",
     "output_type": "stream",
     "text": [
      "准确率: 63.3%\n"
     ]
    }
   ],
   "source": [
    "X_all = np.hstack([X_home_higher, X_teams])\n",
    "scores = cross_val_score(clf, X_all, y_true, scoring='accuracy')\n",
    "print(\"准确率: {0:.1f}%\".format(np.mean(scores) * 100))"
   ]
  },
  {
   "cell_type": "code",
   "execution_count": 71,
   "id": "potential-coast",
   "metadata": {},
   "outputs": [
    {
     "name": "stdout",
     "output_type": "stream",
     "text": [
      "准确率: 65.6%\n",
      "RandomForestClassifier(max_features=2, min_samples_leaf=2, random_state=2021)\n"
     ]
    }
   ],
   "source": [
    "parameter_space = {\n",
    "    \"max_features\": [2, 10, 'auto'], \n",
    "    \"n_estimators\": [100, ],\n",
    "    \"criterion\": ['gini', 'entropy'], \n",
    "    \"min_samples_leaf\": [2, 4, 6]\n",
    "}\n",
    "grid = GridSearchCV(clf, parameter_space)\n",
    "grid.fit(X_all, y_true)\n",
    "print(\"准确率: {0:.1f}%\".format(grid.best_score_ * 100))\n",
    "print(grid.best_estimator_)"
   ]
  },
  {
   "cell_type": "code",
   "execution_count": 70,
   "id": "demographic-enclosure",
   "metadata": {},
   "outputs": [
    {
     "data": {
      "text/plain": [
       "{'bootstrap': True,\n",
       " 'ccp_alpha': 0.0,\n",
       " 'class_weight': None,\n",
       " 'criterion': 'gini',\n",
       " 'max_depth': None,\n",
       " 'max_features': 'auto',\n",
       " 'max_leaf_nodes': None,\n",
       " 'max_samples': None,\n",
       " 'min_impurity_decrease': 0.0,\n",
       " 'min_impurity_split': None,\n",
       " 'min_samples_leaf': 1,\n",
       " 'min_samples_split': 2,\n",
       " 'min_weight_fraction_leaf': 0.0,\n",
       " 'n_estimators': 100,\n",
       " 'n_jobs': None,\n",
       " 'oob_score': False,\n",
       " 'random_state': 2021,\n",
       " 'verbose': 0,\n",
       " 'warm_start': False}"
      ]
     },
     "execution_count": 70,
     "metadata": {},
     "output_type": "execute_result"
    }
   ],
   "source": [
    "clf.get_params()"
   ]
  },
  {
   "cell_type": "code",
   "execution_count": null,
   "id": "pointed-impossible",
   "metadata": {},
   "outputs": [],
   "source": []
  },
  {
   "cell_type": "code",
   "execution_count": 108,
   "id": "rural-moore",
   "metadata": {},
   "outputs": [],
   "source": [
    "teamRk = defaultdict(int)\n",
    "data['HomeTeamRank'] = 0\n",
    "data['VisitorTeamRank'] = 0\n",
    "\n",
    "for index, row in data.iterrows():\n",
    "    home_team = row['Home Team']\n",
    "    visitor_team = row['Visitor Team']\n",
    "    if home_team == \"New Orleans Pelicans\":\n",
    "        home_team = \"New Orleans Hornets\"\n",
    "    elif visitor_team == \"New Orleans Pelicans\":\n",
    "        visitor_team = \"New Orleans Hornets\"\n",
    "    row['HomeTeamRank'] = ladder[ladder['Team'] == home_team]['Rk'].values[0]\n",
    "    row['VisitorTeamRank'] = ladder[ladder['Team'] == visitor_team]['Rk'].values[0]\n",
    "    data.iloc[index] = row"
   ]
  },
  {
   "cell_type": "code",
   "execution_count": 124,
   "id": "secure-delay",
   "metadata": {},
   "outputs": [],
   "source": [
    "X_all_features = data[['Home Team', 'Visitor Team', 'HomeLastWin', 'VisitorLastWin', 'HomeWithStreak', \n",
    "                       'VisitorWithStreak', 'HomeTeamRankHigher', \n",
    "                       'HomeTeamWinLast', 'HomeTeamRank', 'VisitorTeamRank']]"
   ]
  },
  {
   "cell_type": "code",
   "execution_count": 126,
   "id": "promotional-fantasy",
   "metadata": {},
   "outputs": [
    {
     "name": "stdout",
     "output_type": "stream",
     "text": [
      "准确率: 57.4%\n"
     ]
    }
   ],
   "source": [
    "X_all_features = pd.get_dummies(X_all_features, columns=['Home Team', 'Visitor Team'], drop_first=True)\n",
    "clf = DecisionTreeClassifier(random_state=2021)\n",
    "scores = cross_val_score(clf, X_all_features, y_true, scoring='accuracy')\n",
    "print(\"准确率: {0:.1f}%\".format(np.mean(scores) * 100))"
   ]
  },
  {
   "cell_type": "code",
   "execution_count": 127,
   "id": "august-organization",
   "metadata": {},
   "outputs": [
    {
     "name": "stdout",
     "output_type": "stream",
     "text": [
      "准确率: 63.3%\n"
     ]
    }
   ],
   "source": [
    "clf = RandomForestClassifier(random_state=2021)\n",
    "scores = cross_val_score(clf, X_all_features, y_true, scoring='accuracy')\n",
    "print(\"准确率: {0:.1f}%\".format(np.mean(scores) * 100))"
   ]
  },
  {
   "cell_type": "code",
   "execution_count": 128,
   "id": "collected-feeling",
   "metadata": {},
   "outputs": [
    {
     "name": "stdout",
     "output_type": "stream",
     "text": [
      "准确率: 66.0%\n",
      "RandomForestClassifier(criterion='entropy', max_features=2, min_samples_leaf=4,\n",
      "                       random_state=2021)\n"
     ]
    }
   ],
   "source": [
    "parameter_space = {\n",
    "    \"max_features\": [2, 10, 'auto'], \n",
    "    \"n_estimators\": [100, ],\n",
    "    \"criterion\": ['gini', 'entropy'], \n",
    "    \"min_samples_leaf\": [2, 4, 6]\n",
    "}\n",
    "grid = GridSearchCV(clf, parameter_space)\n",
    "grid.fit(X_all_features, y_true)\n",
    "print(\"准确率: {0:.1f}%\".format(grid.best_score_ * 100))\n",
    "print(grid.best_estimator_)"
   ]
  },
  {
   "cell_type": "code",
   "execution_count": null,
   "id": "chinese-atmosphere",
   "metadata": {},
   "outputs": [],
   "source": []
  }
 ],
 "metadata": {
  "kernelspec": {
   "display_name": "Python 3",
   "language": "python",
   "name": "python3"
  },
  "language_info": {
   "codemirror_mode": {
    "name": "ipython",
    "version": 3
   },
   "file_extension": ".py",
   "mimetype": "text/x-python",
   "name": "python",
   "nbconvert_exporter": "python",
   "pygments_lexer": "ipython3",
   "version": "3.8.0"
  }
 },
 "nbformat": 4,
 "nbformat_minor": 5
}
