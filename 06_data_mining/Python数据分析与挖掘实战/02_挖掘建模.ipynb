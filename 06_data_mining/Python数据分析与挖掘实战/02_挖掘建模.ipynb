{
 "cells": [
  {
   "cell_type": "markdown",
   "id": "cellular-longitude",
   "metadata": {},
   "source": [
    "### 5.1 分类与预测\n",
    "- 分类算法分两步: 1. 学习步, 2. 分类步\n",
    "- 预测模型分两步: 1. 建立预测属性的函数模型, 2. 模型通过检验后进行预测或控制\n",
    "\n",
    "##### 常用的分类与预测算法\n",
    "- 1. 回归分析\n",
    "    * 确定预测属性(数值型)与其他变量间相互依赖的定量关系的统计学方法\n",
    "    * 包括线性回归, 非线性回归, Logistic回归, 岭回归, 主成分分析, 偏最小二乘回归\n",
    "- 2. 决策树\n",
    "    * 采用自顶向下的递归方式, 使用gini系数, 并根据不同的权重从该节点向下分支, 最终得到的叶节点是学习划分的类\n",
    "- 3. 人工神经网络\n",
    "- 4. 贝叶斯网络\n",
    "    * 信度网络\n",
    "- 5. 支持向量机\n",
    "    * 把低维的非线性可分转化为高维的线性可分\n",
    "\n",
    "##### 当自变量之间出现多重共线性时, 用最小二乘估计的回归系数会不准确，消除多重共线性的参数改进的估计方法主要有岭回归和主成分回归"
   ]
  },
  {
   "cell_type": "markdown",
   "id": "discrete-retro",
   "metadata": {},
   "source": [
    "##### 1. Logistic回归分析\n",
    "- 1. Logistic函数\n",
    "    * logistic的结果只有0-1, 假设p个独立自变量x1, x2,...,xp, p1 = P(y=1|X), p0 = 1 - p, Logit(p) = ln(p / (1 - p))\n",
    "    * 令 Logit(p) = ln(p / (1 - p)) = z, 则 p = 1 / (1 + e^-z)即为Logistic函数\n",
    "- 2. Logistic 回归模型\n",
    "    z = w0x0 + w1x1 + ... + wnxn\n",
    "##### 2. Logistic建模步骤\n",
    "- 1. 根据分析目的设置指标变量(应变量和自变量), 根据数据对特征进行筛选\n",
    "- 2. y = 1的概率为 p = P(y=1|X), y=0的概率为 1-p, 用ln(p / (1 - p))和自变量列出线性回归方程, 估计出模型中的回归系数\n",
    "- 3. 进行模型检验。 正确率, 混淆矩阵, ROC曲线, KS值等\n",
    "- 4. 模型应用"
   ]
  },
  {
   "cell_type": "code",
   "execution_count": 73,
   "id": "miniature-undergraduate",
   "metadata": {},
   "outputs": [],
   "source": [
    "import pandas as pd\n",
    "from sklearn.linear_model import LogisticRegression\n",
    "\n",
    "import warnings\n",
    "warnings.filterwarnings('ignore')"
   ]
  },
  {
   "cell_type": "code",
   "execution_count": 58,
   "id": "golden-vessel",
   "metadata": {},
   "outputs": [
    {
     "data": {
      "text/html": [
       "<div>\n",
       "<style scoped>\n",
       "    .dataframe tbody tr th:only-of-type {\n",
       "        vertical-align: middle;\n",
       "    }\n",
       "\n",
       "    .dataframe tbody tr th {\n",
       "        vertical-align: top;\n",
       "    }\n",
       "\n",
       "    .dataframe thead th {\n",
       "        text-align: right;\n",
       "    }\n",
       "</style>\n",
       "<table border=\"1\" class=\"dataframe\">\n",
       "  <thead>\n",
       "    <tr style=\"text-align: right;\">\n",
       "      <th></th>\n",
       "      <th>年龄</th>\n",
       "      <th>教育</th>\n",
       "      <th>工龄</th>\n",
       "      <th>地址</th>\n",
       "      <th>收入</th>\n",
       "      <th>负债率</th>\n",
       "      <th>信用卡负债</th>\n",
       "      <th>其他负债</th>\n",
       "      <th>违约</th>\n",
       "    </tr>\n",
       "  </thead>\n",
       "  <tbody>\n",
       "    <tr>\n",
       "      <th>0</th>\n",
       "      <td>41</td>\n",
       "      <td>3</td>\n",
       "      <td>17</td>\n",
       "      <td>12</td>\n",
       "      <td>176</td>\n",
       "      <td>9.3</td>\n",
       "      <td>11.359392</td>\n",
       "      <td>5.008608</td>\n",
       "      <td>1</td>\n",
       "    </tr>\n",
       "    <tr>\n",
       "      <th>1</th>\n",
       "      <td>27</td>\n",
       "      <td>1</td>\n",
       "      <td>10</td>\n",
       "      <td>6</td>\n",
       "      <td>31</td>\n",
       "      <td>17.3</td>\n",
       "      <td>1.362202</td>\n",
       "      <td>4.000798</td>\n",
       "      <td>0</td>\n",
       "    </tr>\n",
       "    <tr>\n",
       "      <th>2</th>\n",
       "      <td>40</td>\n",
       "      <td>1</td>\n",
       "      <td>15</td>\n",
       "      <td>14</td>\n",
       "      <td>55</td>\n",
       "      <td>5.5</td>\n",
       "      <td>0.856075</td>\n",
       "      <td>2.168925</td>\n",
       "      <td>0</td>\n",
       "    </tr>\n",
       "    <tr>\n",
       "      <th>3</th>\n",
       "      <td>41</td>\n",
       "      <td>1</td>\n",
       "      <td>15</td>\n",
       "      <td>14</td>\n",
       "      <td>120</td>\n",
       "      <td>2.9</td>\n",
       "      <td>2.658720</td>\n",
       "      <td>0.821280</td>\n",
       "      <td>0</td>\n",
       "    </tr>\n",
       "    <tr>\n",
       "      <th>4</th>\n",
       "      <td>24</td>\n",
       "      <td>2</td>\n",
       "      <td>2</td>\n",
       "      <td>0</td>\n",
       "      <td>28</td>\n",
       "      <td>17.3</td>\n",
       "      <td>1.787436</td>\n",
       "      <td>3.056564</td>\n",
       "      <td>1</td>\n",
       "    </tr>\n",
       "  </tbody>\n",
       "</table>\n",
       "</div>"
      ],
      "text/plain": [
       "   年龄  教育  工龄  地址   收入   负债率      信用卡负债      其他负债  违约\n",
       "0  41   3  17  12  176   9.3  11.359392  5.008608   1\n",
       "1  27   1  10   6   31  17.3   1.362202  4.000798   0\n",
       "2  40   1  15  14   55   5.5   0.856075  2.168925   0\n",
       "3  41   1  15  14  120   2.9   2.658720  0.821280   0\n",
       "4  24   2   2   0   28  17.3   1.787436  3.056564   1"
      ]
     },
     "execution_count": 58,
     "metadata": {},
     "output_type": "execute_result"
    }
   ],
   "source": [
    "bankloan_data = pd.read_csv('./data/bankloan.csv.zip', compression='zip')\n",
    "bankloan_data.head()"
   ]
  },
  {
   "cell_type": "code",
   "execution_count": 68,
   "id": "danish-bolivia",
   "metadata": {},
   "outputs": [
    {
     "data": {
      "text/plain": [
       "0.8085714285714286"
      ]
     },
     "execution_count": 68,
     "metadata": {},
     "output_type": "execute_result"
    }
   ],
   "source": [
    "X = bankloan_data.iloc[:, :8]\n",
    "y = bankloan_data.iloc[:, -1]\n",
    "lr = LogisticRegression()\n",
    "lr.fit(X, y)\n",
    "print(f'模型的平均正确率为: {lr.score(X, y)}')"
   ]
  },
  {
   "cell_type": "code",
   "execution_count": 74,
   "id": "expressed-vertical",
   "metadata": {},
   "outputs": [],
   "source": [
    "from stability_selection.randomized_lasso import RandomizedLogisticRegression\n",
    "rlr = RandomizedLogisticRegression()\n",
    "rlr.fit(X, y)\n",
    "rlr.get_support() # 获取特征筛选结果, 也可以通过.scores_方法获取各个特征的分数\n",
    "print(f\"有效特征为: {', '.join(data.columns[rlr.get_support()])}\")"
   ]
  },
  {
   "cell_type": "markdown",
   "id": "vocal-greene",
   "metadata": {},
   "source": [
    "- 递归特征消除: 主要思想是反复的构建模型，然后选出最好的(或者最差的特征), 寻找最优特征子集的贪心算法\n",
    "- 稳定性选择: 是一种基于二次抽样和选择算法相结合较新的方法, 主要思想是在不同的数据子集和特征子集上运行特征选择算法, 不断重复, 最终汇总特征选择结果"
   ]
  },
  {
   "cell_type": "markdown",
   "id": "alternate-choir",
   "metadata": {},
   "source": [
    "##### 2. 决策树\n",
    "- ID3算法: 其核心实在决策树的各级节点上, 使用信息增益方法作为属性的选择标准, 来帮助确定生成每个节点时所应采用的合适属性\n",
    "    * 1. 基于信息熵\n",
    "- C4.5算法: C4.5决策树相对于ID3的重要改进是使用信息增益率来选择节点属性, ID3只适用于离散的描述属性, 而C4.5算法可以处理离散和连续的描述属性\n",
    "- CART算法: CART决策树是一种有效的非参数分类和回归方法, 通过构建树, 修剪树, 评估树来构建一个二叉树， 当终结点是连续变量时, 该树为回归树, 当终结点是分类变量时, 该树为分类树"
   ]
  },
  {
   "cell_type": "code",
   "execution_count": null,
   "id": "durable-vampire",
   "metadata": {},
   "outputs": [],
   "source": []
  },
  {
   "cell_type": "code",
   "execution_count": null,
   "id": "assumed-joint",
   "metadata": {},
   "outputs": [],
   "source": []
  },
  {
   "cell_type": "code",
   "execution_count": 49,
   "id": "qualified-logistics",
   "metadata": {},
   "outputs": [],
   "source": [
    "def excel_to_csv(source, target):\n",
    "    data = pd.read_excel(source, encoding='utf-8')\n",
    "    data.to_csv(target, index=False)\n",
    "\n",
    "filename = \"sales_data\"\n",
    "source = './' + filename + '.xls'\n",
    "target = './' + filename + '.csv'\n",
    "excel_to_csv(source, target)"
   ]
  },
  {
   "cell_type": "code",
   "execution_count": 51,
   "id": "canadian-cylinder",
   "metadata": {},
   "outputs": [],
   "source": [
    "import os\n",
    "for f in os.listdir():\n",
    "    if f.endswith('.zip'): continue\n",
    "    os.system(f'zip {f}.zip {f}')\n",
    "    os.system(f'rm -rf {f}')"
   ]
  },
  {
   "cell_type": "code",
   "execution_count": null,
   "id": "appointed-small",
   "metadata": {},
   "outputs": [],
   "source": []
  },
  {
   "cell_type": "code",
   "execution_count": null,
   "id": "smooth-embassy",
   "metadata": {},
   "outputs": [],
   "source": []
  },
  {
   "cell_type": "code",
   "execution_count": 64,
   "id": "legal-horror",
   "metadata": {},
   "outputs": [
    {
     "name": "stdout",
     "output_type": "stream",
     "text": [
      "total 32\n",
      "-rw-rw-r-- 1 Happiless.zhang 12643 Apr  8 14:06 01_数据挖掘基础.ipynb\n",
      "-rw-rw-r-- 1 Happiless.zhang  9816 Apr  8 15:38 02_挖掘建模.ipynb\n",
      "drwxrwxr-x 2 Happiless.zhang  4096 Apr  8 15:33 \u001b[0m\u001b[01;34mdata\u001b[0m/\n"
     ]
    }
   ],
   "source": []
  },
  {
   "cell_type": "code",
   "execution_count": 63,
   "id": "motivated-private",
   "metadata": {},
   "outputs": [],
   "source": []
  },
  {
   "cell_type": "code",
   "execution_count": null,
   "id": "annual-credit",
   "metadata": {},
   "outputs": [],
   "source": []
  }
 ],
 "metadata": {
  "kernelspec": {
   "display_name": "Python 3",
   "language": "python",
   "name": "python3"
  },
  "language_info": {
   "codemirror_mode": {
    "name": "ipython",
    "version": 3
   },
   "file_extension": ".py",
   "mimetype": "text/x-python",
   "name": "python",
   "nbconvert_exporter": "python",
   "pygments_lexer": "ipython3",
   "version": "3.8.0"
  }
 },
 "nbformat": 4,
 "nbformat_minor": 5
}
