{
 "cells": [
  {
   "cell_type": "markdown",
   "id": "educational-proposition",
   "metadata": {},
   "source": [
    "### 5.1 分类与预测\n",
    "- 分类算法分两步: 1. 学习步, 2. 分类步\n",
    "- 预测模型分两步: 1. 建立预测属性的函数模型, 2. 模型通过检验后进行预测或控制\n",
    "\n",
    "##### 常用的分类与预测算法\n",
    "- 1. 回归分析\n",
    "    * 确定预测属性(数值型)与其他变量间相互依赖的定量关系的统计学方法\n",
    "    * 包括线性回归, 非线性回归, Logistic回归, 岭回归, 主成分分析, 偏最小二乘回归\n",
    "- 2. 决策树\n",
    "    * 采用自顶向下的递归方式, 使用gini系数, 并根据不同的权重从该节点向下分支, 最终得到的叶节点是学习划分的类\n",
    "- 3. 人工神经网络\n",
    "- 4. 贝叶斯网络\n",
    "    * 信度网络\n",
    "- 5. 支持向量机\n",
    "    * 把低维的非线性可分转化为高维的线性可分\n",
    "\n",
    "##### 当自变量之间出现多重共线性时, 用最小二乘估计的回归系数会不准确，消除多重共线性的参数改进的估计方法主要有岭回归和主成分回归"
   ]
  },
  {
   "cell_type": "markdown",
   "id": "following-music",
   "metadata": {},
   "source": [
    "##### 1. Logistic回归分析\n",
    "- 1. Logistic函数\n",
    "    * logistic的结果只有0-1, 假设p个独立自变量x1, x2,...,xp, p1 = P(y=1|X), p0 = 1 - p, Logit(p) = ln(p / (1 - p))\n",
    "    * 令 Logit(p) = ln(p / (1 - p)) = z, 则 p = 1 / (1 + e^-z)即为Logistic函数\n",
    "- 2. Logistic 回归模型\n",
    "    z = w0x0 + w1x1 + ... + wnxn\n",
    "##### 2. Logistic建模步骤\n",
    "- 1. 根据分析目的设置指标变量(应变量和自变量), 根据数据对特征进行筛选\n",
    "- 2. y = 1的概率为 p = P(y=1|X), y=0的概率为 1-p, 用ln(p / (1 - p))和自变量列出线性回归方程, 估计出模型中的回归系数\n",
    "- 3. 进行模型检验。 正确率, 混淆矩阵, ROC曲线, KS值等\n",
    "- 4. 模型应用"
   ]
  },
  {
   "cell_type": "code",
   "execution_count": 1,
   "id": "protective-entrepreneur",
   "metadata": {},
   "outputs": [],
   "source": [
    "import pandas as pd\n"
   ]
  },
  {
   "cell_type": "code",
   "execution_count": 5,
   "id": "polyphonic-casino",
   "metadata": {},
   "outputs": [],
   "source": [
    "data = pd.read_excel('./data/bankloan.xls')"
   ]
  },
  {
   "cell_type": "code",
   "execution_count": 6,
   "id": "hispanic-imperial",
   "metadata": {},
   "outputs": [],
   "source": [
    "data.to_csv('./data/bankloan.csv', index=False)"
   ]
  },
  {
   "cell_type": "code",
   "execution_count": null,
   "id": "prime-russell",
   "metadata": {},
   "outputs": [],
   "source": [
    "def excel_to_csv(source, target):\n",
    "    data = pd.read_csv(source)\n",
    "    data.to_csv(target, index=False)"
   ]
  }
 ],
 "metadata": {
  "kernelspec": {
   "display_name": "Python 3",
   "language": "python",
   "name": "python3"
  },
  "language_info": {
   "codemirror_mode": {
    "name": "ipython",
    "version": 3
   },
   "file_extension": ".py",
   "mimetype": "text/x-python",
   "name": "python",
   "nbconvert_exporter": "python",
   "pygments_lexer": "ipython3",
   "version": "3.8.0"
  }
 },
 "nbformat": 4,
 "nbformat_minor": 5
}
