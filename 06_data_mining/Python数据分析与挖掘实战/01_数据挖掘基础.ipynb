{
 "cells": [
  {
   "cell_type": "markdown",
   "id": "destroyed-split",
   "metadata": {},
   "source": [
    "##### 数据挖掘的基本任务\n",
    "- 分类与预测\n",
    "- 聚类分析\n",
    "- 关联规则\n",
    "- 时序模式\n",
    "- 偏差检验\n",
    "- 智能推荐"
   ]
  },
  {
   "cell_type": "markdown",
   "id": "finished-collins",
   "metadata": {},
   "source": [
    "### 数据挖掘建模过程\n",
    "##### 1. 定义挖掘目标\n",
    "- 目标定义\n",
    "    * 任务理解\n",
    "    * 指标确定\n",
    "- 数据采集\n",
    "    * 建模抽样\n",
    "    * 质量把控\n",
    "    * 实时采集\n",
    "- 数据整理\n",
    "    * 数据探索\n",
    "    * 数据清洗\n",
    "    * 数据变换\n",
    "- 构建模型\n",
    "    * 模式发现\n",
    "    * 构建模型\n",
    "    * 验证模型\n",
    "- 模型评价\n",
    "    * 设定评价标准\n",
    "    * 多模型对比\n",
    "    * 模型优化\n",
    "- 模型发布\n",
    "    * 模型部署\n",
    "    * 模型重构"
   ]
  },
  {
   "cell_type": "markdown",
   "id": "australian-cleaning",
   "metadata": {},
   "source": [
    "##### 2. 数据取样\n",
    "##### 3. 数据探索\n",
    "- 异常值分析，缺失值分析，相关性分析，周期性分析\n",
    "##### 4. 数据预处理\n",
    "- 数据筛选，数据变量转换，缺失值处理，坏数据处理，数据标准化，主成分分析，属性选择，数据规约\n",
    "##### 5. 挖掘建模\n",
    "- 判断属于数据挖掘应用中的哪类问题(分类，聚类，关联规则，时序模式，只能推荐)\n",
    "##### 6. 模型评价"
   ]
  },
  {
   "cell_type": "markdown",
   "id": "radical-confidence",
   "metadata": {},
   "source": [
    "##### 常用工具\n",
    "- StatsModels, Gensim"
   ]
  },
  {
   "cell_type": "code",
   "execution_count": 16,
   "id": "sonic-billion",
   "metadata": {},
   "outputs": [],
   "source": [
    "# !pip3 install gensim\n",
    "import gensim, logging\n",
    "sentences = [['first', 'sentence'], ['second', 'sentence']]\n",
    "model = gensim.models.Word2Vec(sentences, min_count=1)\n",
    "print(model['sentence'])"
   ]
  },
  {
   "cell_type": "markdown",
   "id": "ecological-london",
   "metadata": {},
   "source": [
    "### 3. 数据探索\n",
    "##### 3.1. 数据质量分析\n",
    "- 缺失值\n",
    "- 异常值\n",
    "    * 1. 简单的统计量分析\n",
    "    * 2. 3sigma 原则: 在正态分布下，距离平均值 $ 3\\sigma $之外的得概率 <= 0.003,属于小概率事件，如果不属于正态分布，也可以用远离平均值多少倍标准差来描述\n",
    "    * 3. 箱形图分析: \n",
    "- 不一致的值\n",
    "- 重复数据以及包含特殊符号"
   ]
  },
  {
   "cell_type": "code",
   "execution_count": 32,
   "id": "cooperative-wrestling",
   "metadata": {},
   "outputs": [],
   "source": [
    "import numpy as np\n",
    "import pandas as pd\n",
    "import matplotlib.pyplot as plt\n",
    "\n",
    "import warnings\n",
    "warnings.filterwarnings('ignore')\n",
    "\n"
   ]
  },
  {
   "cell_type": "code",
   "execution_count": 30,
   "id": "aboriginal-toddler",
   "metadata": {},
   "outputs": [],
   "source": [
    "# !pip install xlrd\n",
    "sale_data = pd.read_excel('./data/catering_sale.xls', index_col=u'日期')\n",
    "data = pd.read_excel('./data/catering_dish_profit.xls', index_col=u'菜品名')\n",
    "data = pd.read_excel('./data/catering_sale_all.xls', index_col=u'日期')"
   ]
  },
  {
   "cell_type": "markdown",
   "id": "congressional-testament",
   "metadata": {},
   "source": [
    "### 箱线图"
   ]
  },
  {
   "cell_type": "code",
   "execution_count": 58,
   "id": "varied-literacy",
   "metadata": {},
   "outputs": [
    {
     "data": {
      "image/png": "[encoded data removed]",
      "text/plain": [
       "<Figure size 432x288 with 1 Axes>"
      ]
     },
     "metadata": {
      "needs_background": "light"
     },
     "output_type": "display_data"
    }
   ],
   "source": [
    "plt.figure()\n",
    "p = data.boxplot(return_type='dict')\n",
    "X = p['fliers'][0].get_xdata()\n",
    "y = p['fliers'][0].get_ydata()\n",
    "y = np.sort(y)\n",
    "for i in range(len(X)):\n",
    "    temp = y[i] - y[i - 1] if i != 0 else -78 / 3\n",
    "    plt.annotate(y[i], xy=(X[i], y[i]), xytext=(X[i] + 0.05 - 0.8 / temp, y[i]))"
   ]
  },
  {
   "cell_type": "markdown",
   "id": "divine-theme",
   "metadata": {},
   "source": [
    "##### 3.2 数据特征分析\n",
    "- 1. 分布分析\n",
    "- 定量数据的分布分析\n",
    "    * 1. 求极差\n",
    "    * 2. 决定组距和组数\n",
    "    * 3. 决定分点\n",
    "    * 4. 列出频率分布表\n",
    "    * 5. 绘制频率分布直方图\n",
    "    * 原则：\n",
    "        - 各组之间必须是相互排斥的\n",
    "        - 各组必须将所有数据包含在内\n",
    "        - 各组的组宽最好相等\n",
    "- 定型数据的分布分析\n",
    "* 2. 对比分析\n",
    "    - 绝对数比较: 利用绝对数进行比较，寻找差异\n",
    "    - 相对数比较: 比较两个有联系的指标对比计算\n",
    "        * 结构相对数\n",
    "        * 比例相对数\n",
    "        * 比较相对数\n",
    "        * 强度相对数\n",
    "        * 计划完成程度相对数\n",
    "        * 动态相对数"
   ]
  },
  {
   "cell_type": "code",
   "execution_count": null,
   "id": "incident-graham",
   "metadata": {},
   "outputs": [],
   "source": []
  },
  {
   "cell_type": "code",
   "execution_count": null,
   "id": "existing-locator",
   "metadata": {},
   "outputs": [],
   "source": []
  }
 ],
 "metadata": {
  "kernelspec": {
   "display_name": "Python 3",
   "language": "python",
   "name": "python3"
  },
  "language_info": {
   "codemirror_mode": {
    "name": "ipython",
    "version": 3
   },
   "file_extension": ".py",
   "mimetype": "text/x-python",
   "name": "python",
   "nbconvert_exporter": "python",
   "pygments_lexer": "ipython3",
   "version": "3.8.0"
  }
 },
 "nbformat": 4,
 "nbformat_minor": 5
}
