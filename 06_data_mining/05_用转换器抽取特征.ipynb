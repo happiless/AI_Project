{
 "cells": [
  {
   "cell_type": "markdown",
   "id": "japanese-notification",
   "metadata": {},
   "source": [
    "### 寻找特征\n",
    "- 从数据集中抽取特征\n",
    "- 创建新特征\n",
    "- 选取好特征\n",
    "- 创建转换器, 处理数据集\n",
    "\n",
    "##### 优点\n",
    "- 降低真实世界的复杂度，模型比现实更容易操纵"
   ]
  },
  {
   "cell_type": "code",
   "execution_count": 99,
   "id": "grand-mentor",
   "metadata": {},
   "outputs": [],
   "source": [
    "import numpy as np\n",
    "import pandas as pd\n",
    "\n",
    "from collections import defaultdict\n",
    "from sklearn.feature_selection import VarianceThreshold\n",
    "\n",
    "import warnings\n",
    "warnings.filterwarnings('ignore')"
   ]
  },
  {
   "cell_type": "code",
   "execution_count": 12,
   "id": "arbitrary-gibson",
   "metadata": {},
   "outputs": [
    {
     "data": {
      "text/html": [
       "<div>\n",
       "<style scoped>\n",
       "    .dataframe tbody tr th:only-of-type {\n",
       "        vertical-align: middle;\n",
       "    }\n",
       "\n",
       "    .dataframe tbody tr th {\n",
       "        vertical-align: top;\n",
       "    }\n",
       "\n",
       "    .dataframe thead th {\n",
       "        text-align: right;\n",
       "    }\n",
       "</style>\n",
       "<table border=\"1\" class=\"dataframe\">\n",
       "  <thead>\n",
       "    <tr style=\"text-align: right;\">\n",
       "      <th></th>\n",
       "      <th>Age</th>\n",
       "      <th>Work-Class</th>\n",
       "      <th>fnlwgt</th>\n",
       "      <th>Education</th>\n",
       "      <th>Education-Num</th>\n",
       "      <th>Marital-Status</th>\n",
       "      <th>Occupation</th>\n",
       "      <th>Relationship</th>\n",
       "      <th>Race</th>\n",
       "      <th>Sex</th>\n",
       "      <th>Capital-gain</th>\n",
       "      <th>Capital-loss</th>\n",
       "      <th>Hours-per-week</th>\n",
       "      <th>Native-Country</th>\n",
       "      <th>Earnings-Raw</th>\n",
       "    </tr>\n",
       "  </thead>\n",
       "  <tbody>\n",
       "    <tr>\n",
       "      <th>0</th>\n",
       "      <td>39</td>\n",
       "      <td>State-gov</td>\n",
       "      <td>77516</td>\n",
       "      <td>Bachelors</td>\n",
       "      <td>13</td>\n",
       "      <td>Never-married</td>\n",
       "      <td>Adm-clerical</td>\n",
       "      <td>Not-in-family</td>\n",
       "      <td>White</td>\n",
       "      <td>Male</td>\n",
       "      <td>2174</td>\n",
       "      <td>0</td>\n",
       "      <td>40</td>\n",
       "      <td>United-States</td>\n",
       "      <td>&lt;=50K</td>\n",
       "    </tr>\n",
       "    <tr>\n",
       "      <th>1</th>\n",
       "      <td>50</td>\n",
       "      <td>Self-emp-not-inc</td>\n",
       "      <td>83311</td>\n",
       "      <td>Bachelors</td>\n",
       "      <td>13</td>\n",
       "      <td>Married-civ-spouse</td>\n",
       "      <td>Exec-managerial</td>\n",
       "      <td>Husband</td>\n",
       "      <td>White</td>\n",
       "      <td>Male</td>\n",
       "      <td>0</td>\n",
       "      <td>0</td>\n",
       "      <td>13</td>\n",
       "      <td>United-States</td>\n",
       "      <td>&lt;=50K</td>\n",
       "    </tr>\n",
       "    <tr>\n",
       "      <th>2</th>\n",
       "      <td>38</td>\n",
       "      <td>Private</td>\n",
       "      <td>215646</td>\n",
       "      <td>HS-grad</td>\n",
       "      <td>9</td>\n",
       "      <td>Divorced</td>\n",
       "      <td>Handlers-cleaners</td>\n",
       "      <td>Not-in-family</td>\n",
       "      <td>White</td>\n",
       "      <td>Male</td>\n",
       "      <td>0</td>\n",
       "      <td>0</td>\n",
       "      <td>40</td>\n",
       "      <td>United-States</td>\n",
       "      <td>&lt;=50K</td>\n",
       "    </tr>\n",
       "    <tr>\n",
       "      <th>3</th>\n",
       "      <td>53</td>\n",
       "      <td>Private</td>\n",
       "      <td>234721</td>\n",
       "      <td>11th</td>\n",
       "      <td>7</td>\n",
       "      <td>Married-civ-spouse</td>\n",
       "      <td>Handlers-cleaners</td>\n",
       "      <td>Husband</td>\n",
       "      <td>Black</td>\n",
       "      <td>Male</td>\n",
       "      <td>0</td>\n",
       "      <td>0</td>\n",
       "      <td>40</td>\n",
       "      <td>United-States</td>\n",
       "      <td>&lt;=50K</td>\n",
       "    </tr>\n",
       "    <tr>\n",
       "      <th>4</th>\n",
       "      <td>28</td>\n",
       "      <td>Private</td>\n",
       "      <td>338409</td>\n",
       "      <td>Bachelors</td>\n",
       "      <td>13</td>\n",
       "      <td>Married-civ-spouse</td>\n",
       "      <td>Prof-specialty</td>\n",
       "      <td>Wife</td>\n",
       "      <td>Black</td>\n",
       "      <td>Female</td>\n",
       "      <td>0</td>\n",
       "      <td>0</td>\n",
       "      <td>40</td>\n",
       "      <td>Cuba</td>\n",
       "      <td>&lt;=50K</td>\n",
       "    </tr>\n",
       "    <tr>\n",
       "      <th>32556</th>\n",
       "      <td>27</td>\n",
       "      <td>Private</td>\n",
       "      <td>257302</td>\n",
       "      <td>Assoc-acdm</td>\n",
       "      <td>12</td>\n",
       "      <td>Married-civ-spouse</td>\n",
       "      <td>Tech-support</td>\n",
       "      <td>Wife</td>\n",
       "      <td>White</td>\n",
       "      <td>Female</td>\n",
       "      <td>0</td>\n",
       "      <td>0</td>\n",
       "      <td>38</td>\n",
       "      <td>United-States</td>\n",
       "      <td>&lt;=50K</td>\n",
       "    </tr>\n",
       "    <tr>\n",
       "      <th>32557</th>\n",
       "      <td>40</td>\n",
       "      <td>Private</td>\n",
       "      <td>154374</td>\n",
       "      <td>HS-grad</td>\n",
       "      <td>9</td>\n",
       "      <td>Married-civ-spouse</td>\n",
       "      <td>Machine-op-inspct</td>\n",
       "      <td>Husband</td>\n",
       "      <td>White</td>\n",
       "      <td>Male</td>\n",
       "      <td>0</td>\n",
       "      <td>0</td>\n",
       "      <td>40</td>\n",
       "      <td>United-States</td>\n",
       "      <td>&gt;50K</td>\n",
       "    </tr>\n",
       "    <tr>\n",
       "      <th>32558</th>\n",
       "      <td>58</td>\n",
       "      <td>Private</td>\n",
       "      <td>151910</td>\n",
       "      <td>HS-grad</td>\n",
       "      <td>9</td>\n",
       "      <td>Widowed</td>\n",
       "      <td>Adm-clerical</td>\n",
       "      <td>Unmarried</td>\n",
       "      <td>White</td>\n",
       "      <td>Female</td>\n",
       "      <td>0</td>\n",
       "      <td>0</td>\n",
       "      <td>40</td>\n",
       "      <td>United-States</td>\n",
       "      <td>&lt;=50K</td>\n",
       "    </tr>\n",
       "    <tr>\n",
       "      <th>32559</th>\n",
       "      <td>22</td>\n",
       "      <td>Private</td>\n",
       "      <td>201490</td>\n",
       "      <td>HS-grad</td>\n",
       "      <td>9</td>\n",
       "      <td>Never-married</td>\n",
       "      <td>Adm-clerical</td>\n",
       "      <td>Own-child</td>\n",
       "      <td>White</td>\n",
       "      <td>Male</td>\n",
       "      <td>0</td>\n",
       "      <td>0</td>\n",
       "      <td>20</td>\n",
       "      <td>United-States</td>\n",
       "      <td>&lt;=50K</td>\n",
       "    </tr>\n",
       "    <tr>\n",
       "      <th>32560</th>\n",
       "      <td>52</td>\n",
       "      <td>Self-emp-inc</td>\n",
       "      <td>287927</td>\n",
       "      <td>HS-grad</td>\n",
       "      <td>9</td>\n",
       "      <td>Married-civ-spouse</td>\n",
       "      <td>Exec-managerial</td>\n",
       "      <td>Wife</td>\n",
       "      <td>White</td>\n",
       "      <td>Female</td>\n",
       "      <td>15024</td>\n",
       "      <td>0</td>\n",
       "      <td>40</td>\n",
       "      <td>United-States</td>\n",
       "      <td>&gt;50K</td>\n",
       "    </tr>\n",
       "  </tbody>\n",
       "</table>\n",
       "</div>"
      ],
      "text/plain": [
       "       Age         Work-Class  fnlwgt    Education  Education-Num  \\\n",
       "0       39          State-gov   77516    Bachelors             13   \n",
       "1       50   Self-emp-not-inc   83311    Bachelors             13   \n",
       "2       38            Private  215646      HS-grad              9   \n",
       "3       53            Private  234721         11th              7   \n",
       "4       28            Private  338409    Bachelors             13   \n",
       "32556   27            Private  257302   Assoc-acdm             12   \n",
       "32557   40            Private  154374      HS-grad              9   \n",
       "32558   58            Private  151910      HS-grad              9   \n",
       "32559   22            Private  201490      HS-grad              9   \n",
       "32560   52       Self-emp-inc  287927      HS-grad              9   \n",
       "\n",
       "            Marital-Status          Occupation    Relationship    Race  \\\n",
       "0            Never-married        Adm-clerical   Not-in-family   White   \n",
       "1       Married-civ-spouse     Exec-managerial         Husband   White   \n",
       "2                 Divorced   Handlers-cleaners   Not-in-family   White   \n",
       "3       Married-civ-spouse   Handlers-cleaners         Husband   Black   \n",
       "4       Married-civ-spouse      Prof-specialty            Wife   Black   \n",
       "32556   Married-civ-spouse        Tech-support            Wife   White   \n",
       "32557   Married-civ-spouse   Machine-op-inspct         Husband   White   \n",
       "32558              Widowed        Adm-clerical       Unmarried   White   \n",
       "32559        Never-married        Adm-clerical       Own-child   White   \n",
       "32560   Married-civ-spouse     Exec-managerial            Wife   White   \n",
       "\n",
       "           Sex  Capital-gain  Capital-loss  Hours-per-week  Native-Country  \\\n",
       "0         Male          2174             0              40   United-States   \n",
       "1         Male             0             0              13   United-States   \n",
       "2         Male             0             0              40   United-States   \n",
       "3         Male             0             0              40   United-States   \n",
       "4       Female             0             0              40            Cuba   \n",
       "32556   Female             0             0              38   United-States   \n",
       "32557     Male             0             0              40   United-States   \n",
       "32558   Female             0             0              40   United-States   \n",
       "32559     Male             0             0              20   United-States   \n",
       "32560   Female         15024             0              40   United-States   \n",
       "\n",
       "      Earnings-Raw  \n",
       "0            <=50K  \n",
       "1            <=50K  \n",
       "2            <=50K  \n",
       "3            <=50K  \n",
       "4            <=50K  \n",
       "32556        <=50K  \n",
       "32557         >50K  \n",
       "32558        <=50K  \n",
       "32559        <=50K  \n",
       "32560         >50K  "
      ]
     },
     "execution_count": 12,
     "metadata": {},
     "output_type": "execute_result"
    }
   ],
   "source": [
    "adult_data = pd.read_csv(\n",
    "    './data/adult.data.zip', \n",
    "    header=None, \n",
    "    names=[\"Age\", \"Work-Class\", \"fnlwgt\", \"Education\", \"Education-Num\", \n",
    "            \"Marital-Status\", \"Occupation\", \"Relationship\", \"Race\", \"Sex\", \"Capital-gain\", \n",
    "            \"Capital-loss\", \"Hours-per-week\", \"Native-Country\", \"Earnings-Raw\"], \n",
    "    compression='zip'\n",
    ")\n",
    "adult_data.head().append(adult_data.tail())"
   ]
  },
  {
   "cell_type": "markdown",
   "id": "wrapped-forestry",
   "metadata": {},
   "source": [
    "##### 1. 通用的特征创建模式\n",
    "- 对象的物理属性\n",
    "    * 空间属性，比如对象的长、宽、高\n",
    "    * 重量和密度\n",
    "    * 年龄、使用年限或成分\n",
    "    * 种类\n",
    "    * 品质\n",
    "- 对象的使用或历史相关\n",
    "    * 生产商、出版商或创造者\n",
    "    * 生产时间\n",
    "    * 使用方法\n",
    "- 从组成成分角度描述对象\n",
    "    * 次级成分的频率，如一本书中某个单词的词频\n",
    "    * 次级成分的数量和（或）次级成分种类的数量\n",
    "    * 次级成分的平均大小，例如平均句长"
   ]
  },
  {
   "cell_type": "markdown",
   "id": "advance-insert",
   "metadata": {},
   "source": [
    "##### 数值特征和类别特征\n",
    "类别型特征也可以称为名义特征（nominal）"
   ]
  },
  {
   "cell_type": "code",
   "execution_count": 13,
   "id": "elegant-affiliate",
   "metadata": {},
   "outputs": [
    {
     "data": {
      "text/plain": [
       "array([' State-gov', ' Self-emp-not-inc', ' Private', ' Federal-gov',\n",
       "       ' Local-gov', ' ?', ' Self-emp-inc', ' Without-pay',\n",
       "       ' Never-worked'], dtype=object)"
      ]
     },
     "execution_count": 13,
     "metadata": {},
     "output_type": "execute_result"
    }
   ],
   "source": [
    "adult_data['Work-Class'].unique()"
   ]
  },
  {
   "cell_type": "markdown",
   "id": "juvenile-memorial",
   "metadata": {},
   "source": [
    "##### 2. 特征选择\n",
    "- 降低复杂度：减少特征数量，是提高算法运行效率，减少资源使用的好方法\n",
    "- 降低噪音：额外的特征可能扰乱算法的正常工作，只选择合适的特征有助于减少出现没有实际意义的相关性的几率\n",
    "- 增加模型可读性：使用更少的特征，使得模型更容易被理解"
   ]
  },
  {
   "cell_type": "code",
   "execution_count": 21,
   "id": "present-darkness",
   "metadata": {},
   "outputs": [
    {
     "name": "stdout",
     "output_type": "stream",
     "text": [
      "[27.  0. 27.]\n"
     ]
    }
   ],
   "source": [
    "# 确保特征值是不同的，如果特征值都相同，就没有了意义\n",
    "# VarianceThreshold转换器\n",
    "X = np.arange(30).reshape((10, 3))\n",
    "X[:, 1] = 1\n",
    "\n",
    "vt = VarianceThreshold()\n",
    "X_t = vt.fit_transform(X)\n",
    "print(vt.variances_)"
   ]
  },
  {
   "cell_type": "markdown",
   "id": "irish-politics",
   "metadata": {},
   "source": [
    "##### 选择最佳特征\n",
    "- sklearn提供了几个用于单变量的转换器\n",
    "    * SelectKBest: 返回k个最佳特征\n",
    "    * SelectPercentile: 返回表现最佳的前 r%个特征\n",
    "- 单个特征和某一类别之间相关性的计算方法有很多，最常用的有：\n",
    "    * 卡方检验($ X^2 $)\n",
    "    * 皮尔逊 (Pearson)\n",
    "    * 互信息\n",
    "    * 信息熵"
   ]
  },
  {
   "cell_type": "code",
   "execution_count": 36,
   "id": "recreational-hawaii",
   "metadata": {},
   "outputs": [
    {
     "name": "stdout",
     "output_type": "stream",
     "text": [
      "[8.60061182e+03 2.40142178e+03 8.21924671e+07 1.37214589e+06\n",
      " 6.47640900e+03]\n"
     ]
    }
   ],
   "source": [
    "X = adult_data[['Age', 'Education-Num', 'Capital-gain', 'Capital-loss', 'Hours-per-week']].values\n",
    "y = adult_data['Earnings-Raw'].values == ' >50K'\n",
    "\n",
    "# 使用卡方函数打分\n",
    "from sklearn.feature_selection import SelectKBest\n",
    "from sklearn.feature_selection import chi2\n",
    "\n",
    "transformer = SelectKBest(score_func=chi2, k=3)\n",
    "X_t_chi2 = transformer.fit_transform(X, y)\n",
    "# 生成特征对应的相关性， 相关性最好得为第一、三、四列，对应着Age（年龄）、Capital-Gain（资本收 益）和Capital-Loss（资本损失）\n",
    "print(transformer.scores_)"
   ]
  },
  {
   "cell_type": "code",
   "execution_count": 38,
   "id": "sonic-professional",
   "metadata": {},
   "outputs": [],
   "source": [
    "# 其他相关性计算方法，皮尔逊 (Pearson)\n",
    "from scipy.stats import pearsonr\n",
    "\n",
    "def multivariate_pearsonr(X, y):\n",
    "    scores, pvalues = [], []\n",
    "    for column in range(X.shape[1]):\n",
    "        # 只计算改了的皮尔逊相关系数和p值\n",
    "        cur_score, cur_p = pearsonr(X[:, column], y)\n",
    "        scores.append(abs(cur_score))\n",
    "        pvalues.append(cur_p)\n",
    "    return (np.array(scores), np.array(pvalues))"
   ]
  },
  {
   "cell_type": "code",
   "execution_count": 40,
   "id": "effective-identity",
   "metadata": {},
   "outputs": [
    {
     "name": "stdout",
     "output_type": "stream",
     "text": [
      "[0.2340371  0.33515395 0.22332882 0.15052631 0.22968907]\n"
     ]
    }
   ],
   "source": [
    "transformer = SelectKBest(score_func=multivariate_pearsonr, k=3)\n",
    "X_t_pearson = transformer.fit_transform(X, y)\n",
    "\n",
    "# p值为1到1之间的任意值。值为1，表示两个变量之间绝对正相关，值为1， 绝对负相关\n",
    "# 相关性最好的是第一、二、五列，Age、 Education和Hours-per-week\n",
    "print(transformer.scores_)"
   ]
  },
  {
   "cell_type": "code",
   "execution_count": 42,
   "id": "supreme-option",
   "metadata": {},
   "outputs": [
    {
     "name": "stdout",
     "output_type": "stream",
     "text": [
      "卡方检验：0.8290900150181587, 皮尔逊：0.7727956909843138\n"
     ]
    }
   ],
   "source": [
    "from sklearn.tree import DecisionTreeClassifier\n",
    "from sklearn.model_selection import cross_val_score\n",
    "clf = DecisionTreeClassifier(random_state=2021)\n",
    "scores_chi2 = cross_val_score(clf, X_t_chi2, y, scoring='accuracy')\n",
    "scores_preason = cross_val_score(clf, X_t_pearson, y, scoring='accuracy')\n",
    "print(f\"卡方检验：{scores_chi2.mean()}, 皮尔逊：{scores_preason.mean()}\")"
   ]
  },
  {
   "cell_type": "markdown",
   "id": "czech-probability",
   "metadata": {},
   "source": [
    "### 3. 创建特征"
   ]
  },
  {
   "cell_type": "code",
   "execution_count": 59,
   "id": "preliminary-harrison",
   "metadata": {},
   "outputs": [
    {
     "name": "stderr",
     "output_type": "stream",
     "text": [
      "/home/Happiless.zhang/.local/lib/python3.8/site-packages/IPython/core/interactiveshell.py:3165: DtypeWarning: Columns (3) have mixed types. Specify dtype option on import or set low_memory=False.\n",
      "  has_raised = await self.run_ast_nodes(code_ast.body, cell_name,\n"
     ]
    }
   ],
   "source": [
    "# 将字符串转为数字的函数\n",
    "def convert_number(x):\n",
    "    try:\n",
    "        return float(x)\n",
    "    except ValueError:\n",
    "        return np.nan\n",
    "\n",
    "converters = defaultdict(convert_number)\n",
    "converters[1558] = lambda x: 1 if x.strip() == \"ad.\" else 0\n",
    "ads = pd.read_csv(\"./data/ad.data.zip\", header=None, converters=converters, compression='zip')"
   ]
  },
  {
   "cell_type": "code",
   "execution_count": 60,
   "id": "christian-vision",
   "metadata": {},
   "outputs": [],
   "source": [
    "ads = ads.apply(pd.to_numeric, errors='coerce')\n",
    "ads = ads.astype(float).dropna()\n",
    "\n",
    "y = ads.pop(1558)\n",
    "X = ads"
   ]
  },
  {
   "cell_type": "markdown",
   "id": "eight-adobe",
   "metadata": {},
   "source": [
    "##### **主成分分析 (Principal Component Analysis，PCA)**\n",
    "- 1. 目的是找到能用较少信息描述数据集的特征组合，发现彼此之间没有相关性，能够描述数据集的特征，确切说这些特征的方差跟整体方差没有多大差距\n",
    "- 2. PCA会对返回结果根据方差进行排序，所以前几个特征就能够解释数据集的大部分信息\n",
    "- 3. PCA算法得到的数据创建模型，不仅能够近似地表示原始数据集，还能提高分类的正确率\n",
    "- 4. PCA算法处理数据一个不好的地方在于，得到的主成分往往是其他几个特征的复杂组合，比较难于理解"
   ]
  },
  {
   "cell_type": "code",
   "execution_count": 82,
   "id": "hazardous-mitchell",
   "metadata": {},
   "outputs": [
    {
     "data": {
      "text/plain": [
       "(2359, 5)"
      ]
     },
     "execution_count": 82,
     "metadata": {},
     "output_type": "execute_result"
    }
   ],
   "source": [
    "from sklearn.decomposition import PCA\n",
    "pca = PCA(n_components=5)\n",
    "X_d = pca.fit_transform(X)\n",
    "# 返回的结果只有5个特征\n",
    "X_d.shape"
   ]
  },
  {
   "cell_type": "code",
   "execution_count": 83,
   "id": "lonely-grounds",
   "metadata": {},
   "outputs": [
    {
     "data": {
      "text/plain": [
       "array([0.854, 0.145, 0.001, 0.   , 0.   ])"
      ]
     },
     "execution_count": 83,
     "metadata": {},
     "output_type": "execute_result"
    }
   ],
   "source": [
    "np.set_printoptions(precision=3, suppress=True)\n",
    "pca.explained_variance_ratio_"
   ]
  },
  {
   "cell_type": "code",
   "execution_count": 84,
   "id": "absolute-agenda",
   "metadata": {},
   "outputs": [
    {
     "name": "stdout",
     "output_type": "stream",
     "text": [
      "使用PCA算法降维之后的正确率: 0.9347088776134441\n"
     ]
    }
   ],
   "source": [
    "clf = DecisionTreeClassifier(random_state=2021)\n",
    "scores_pca = cross_val_score(clf, X_d, y, scoring='accuracy')\n",
    "print(f\"使用PCA算法降维之后的正确率: {scores_pca.mean()}\")"
   ]
  },
  {
   "cell_type": "markdown",
   "id": "scheduled-intent",
   "metadata": {},
   "source": [
    "- 5. PCA算法的另一个优点是，你可以把抽象难懂的数据集绘制成图形"
   ]
  },
  {
   "cell_type": "code",
   "execution_count": 88,
   "id": "fancy-population",
   "metadata": {},
   "outputs": [
    {
     "data": {
      "image/png": "[encoded data removed]",
      "text/plain": [
       "<Figure size 432x288 with 1 Axes>"
      ]
     },
     "metadata": {
      "needs_background": "light"
     },
     "output_type": "display_data"
    }
   ],
   "source": [
    "import matplotlib.pyplot as plt\n",
    "classes = set(y)\n",
    "colors = ['red', 'green']\n",
    "for cur_class, color in zip(classes, colors):\n",
    "    mask = (y == cur_class).values\n",
    "    plt.scatter(X_d[mask, 0], X_d[mask, 1], marker='o', color=color, label=int(cur_class))\n",
    "plt.legend()\n",
    "plt.show()"
   ]
  },
  {
   "cell_type": "markdown",
   "id": "overhead-plate",
   "metadata": {},
   "source": [
    "### 4. 创建自己的转换器\n",
    "- 1. 转换器API\n",
    "    * fit(): 接收训练数据, 设置内部参数\n",
    "    * transform(): 转换过程, 接收训练数据集或相同格式的新数据集\n",
    "- 2. 实现细节\n",
    "    * 集成mixin的类\n",
    "    * 实现fit和transform函数"
   ]
  },
  {
   "cell_type": "code",
   "execution_count": 114,
   "id": "charitable-briefs",
   "metadata": {},
   "outputs": [],
   "source": [
    "from sklearn.base import TransformerMixin\n",
    "from sklearn.utils import as_float_array\n",
    "\n",
    "class MeanDiscrete(TransformerMixin):\n",
    "    def fit(self, X):\n",
    "        X = as_float_array(X)\n",
    "        self.mean = X.mean(axis=0)\n",
    "        # fit 函数要返回本身\n",
    "        return self\n",
    "    \n",
    "    def transform(self, X):\n",
    "        X = as_float_array(X)\n",
    "        assert X.shape[1] == self.mean.shape[0]\n",
    "        return X > self.mean"
   ]
  },
  {
   "cell_type": "markdown",
   "id": "temporal-argument",
   "metadata": {},
   "source": [
    "- 单元测试"
   ]
  },
  {
   "cell_type": "code",
   "execution_count": 115,
   "id": "foster-afghanistan",
   "metadata": {},
   "outputs": [],
   "source": [
    "from numpy.testing import assert_array_almost_equal\n",
    "\n",
    "def test_mean_discrete():\n",
    "    X_test = np.array([[0,2], [3, 5], [6, 8], [9, 11], [12, 14], [15, 17], [18, 20], [21, 23], [24, 26], [27, 29]])\n",
    "    mean_discrete = MeanDiscrete()\n",
    "    mean_discrete.fit(X_test)\n",
    "    assert_array_almost_equal(mean_discrete.mean, np.array([13.5, 15.5]))\n",
    "    X_transformed = mean_discrete.transform(X_test)\n",
    "    X_expected = np.array([[0, 0], [0, 0], [0, 0], [0, 0], [0, 0], \n",
    "                          [1, 1], [1, 1], [1, 1], [1, 1], [1, 1]])\n",
    "    assert_array_almost_equal(X_transformed, X_expected)\n",
    "\n",
    "test_mean_discrete()"
   ]
  },
  {
   "cell_type": "markdown",
   "id": "electronic-simpson",
   "metadata": {},
   "source": [
    "- 组装起来"
   ]
  },
  {
   "cell_type": "code",
   "execution_count": 117,
   "id": "unable-percentage",
   "metadata": {},
   "outputs": [
    {
     "name": "stdout",
     "output_type": "stream",
     "text": [
      "Mean Discrete performance:nan\n"
     ]
    }
   ],
   "source": [
    "from sklearn.pipeline import Pipeline\n",
    "pipeline = Pipeline([('mean_discrete', MeanDiscrete()), \n",
    "                     ('classifier', DecisionTreeClassifier(random_state=2021))])\n",
    "scores_mean_discrete = cross_val_score(pipeline, X, y, scoring='accuracy')\n",
    "print(\"Mean Discrete performance:{0:.3f}\".format(scores_mean_discrete.mean())) "
   ]
  },
  {
   "cell_type": "code",
   "execution_count": 121,
   "id": "clean-implement",
   "metadata": {},
   "outputs": [
    {
     "name": "stdout",
     "output_type": "stream",
     "text": [
      "Mean Discrete performance:0.935\n"
     ]
    }
   ],
   "source": [
    "mean_discrete = MeanDiscrete()\n",
    "X_t = mean_discrete.fit_transform(X)\n",
    "# X_t = X_t.astype('int')\n",
    "clf = DecisionTreeClassifier(random_state=2021)\n",
    "\n",
    "scores_mean_discrete = cross_val_score(clf, X_t, y, scoring='accuracy')\n",
    "print(\"Mean Discrete performance:{0:.3f}\".format(scores_mean_discrete.mean())) "
   ]
  }
 ],
 "metadata": {
  "kernelspec": {
   "display_name": "Python 3",
   "language": "python",
   "name": "python3"
  },
  "language_info": {
   "codemirror_mode": {
    "name": "ipython",
    "version": 3
   },
   "file_extension": ".py",
   "mimetype": "text/x-python",
   "name": "python",
   "nbconvert_exporter": "python",
   "pygments_lexer": "ipython3",
   "version": "3.8.0"
  }
 },
 "nbformat": 4,
 "nbformat_minor": 5
}
