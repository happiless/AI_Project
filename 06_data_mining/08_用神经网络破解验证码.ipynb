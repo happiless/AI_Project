{
 "cells": [
  {
   "cell_type": "markdown",
   "id": "specified-fashion",
   "metadata": {},
   "source": [
    "##### 本章内容\n",
    "- 神经网络\n",
    "- 创建验证码和字母数据集\n",
    "- 用scikit-iamge库处理图像数据\n",
    "- 神经网络库PyBrain\n",
    "- 从图像中抽取基本特征\n",
    "- 使用神经网络进行更大规模的分类任务\n",
    "- 用后处理提升效果"
   ]
  },
  {
   "cell_type": "markdown",
   "id": "arbitrary-macedonia",
   "metadata": {},
   "source": [
    "### 1. 准备数据集\n",
    "- 绘制验证码"
   ]
  },
  {
   "cell_type": "code",
   "execution_count": 39,
   "id": "fifteen-collaboration",
   "metadata": {},
   "outputs": [],
   "source": [
    "import numpy as np\n",
    "import matplotlib.pyplot as plt\n",
    "from PIL import Image, ImageDraw, ImageFont\n",
    "from skimage import transform as tf\n",
    "from skimage.measure import label, regionprops\n",
    "from sklearn.utils import check_random_state\n",
    "from sklearn.preprocessing import OneHotEncoder"
   ]
  },
  {
   "cell_type": "code",
   "execution_count": 8,
   "id": "unnecessary-vatican",
   "metadata": {},
   "outputs": [],
   "source": [
    "# !pip3 install  scikit-image  -i https://pypi.tuna.tsinghua.edu.cn/simple"
   ]
  },
  {
   "cell_type": "code",
   "execution_count": 18,
   "id": "ruled-medication",
   "metadata": {},
   "outputs": [],
   "source": [
    "def create_captcha(text, shear=0, size=(100, 24)):\n",
    "    \"\"\"\n",
    "    :chear: 错位\n",
    "    \"\"\"\n",
    "    im = Image.new(\"L\", size, \"black\")\n",
    "    draw = ImageDraw.Draw(im)\n",
    "    font = ImageFont.truetype(r\"./data/Coval-Book.otf\", 22)\n",
    "    draw.text((0, 0), text, fill=1, font=font)\n",
    "    image = np.array(im)\n",
    "    affine_tf = tf.AffineTransform(shear=shear)\n",
    "    image = tf.warp(image, affine_tf)\n",
    "    return image / image.max()"
   ]
  },
  {
   "cell_type": "code",
   "execution_count": 22,
   "id": "brave-palace",
   "metadata": {},
   "outputs": [
    {
     "data": {
      "text/plain": [
       "<matplotlib.image.AxesImage at 0x7f826af9b2e0>"
      ]
     },
     "execution_count": 22,
     "metadata": {},
     "output_type": "execute_result"
    },
    {
     "data": {
      "image/png": "[encoded data removed]",
      "text/plain": [
       "<Figure size 432x288 with 1 Axes>"
      ]
     },
     "metadata": {
      "needs_background": "light"
     },
     "output_type": "display_data"
    }
   ],
   "source": [
    "# 绘制图像\n",
    "image = create_captcha(\"GENE\", shear=0.5)\n",
    "plt.imshow(image, cmap='gray')"
   ]
  },
  {
   "cell_type": "markdown",
   "id": "young-agency",
   "metadata": {},
   "source": [
    "- 将图像切分为单个的字母"
   ]
  },
  {
   "cell_type": "code",
   "execution_count": 25,
   "id": "tired-token",
   "metadata": {},
   "outputs": [],
   "source": [
    "def segment_image(image):\n",
    "    labeled_image = label(image > 0)\n",
    "    subimages = []\n",
    "    for region in regionprops(labeled_image):\n",
    "        # 通过region对象就能获取到当前区域的相关信息\n",
    "        start_x, start_y, end_x, end_y = region.bbox\n",
    "        subimages.append(image[start_x:end_x, start_y:end_y])\n",
    "    if len(subimages) == 0:\n",
    "        return [image, ]\n",
    "    return subimages"
   ]
  },
  {
   "cell_type": "code",
   "execution_count": 31,
   "id": "sunset-humanity",
   "metadata": {},
   "outputs": [
    {
     "data": {
      "image/png": "[encoded data removed]",
      "text/plain": [
       "<Figure size 720x288 with 3 Axes>"
      ]
     },
     "metadata": {
      "needs_background": "light"
     },
     "output_type": "display_data"
    }
   ],
   "source": [
    "subimages = segment_image(image)\n",
    "f, axes = plt.subplots(1, len(subimages), figsize=(10, 4))\n",
    "for i in range(len(subimages)):\n",
    "    axes[i].imshow(subimages[i], cmap='gray')"
   ]
  },
  {
   "cell_type": "markdown",
   "id": "defined-geneva",
   "metadata": {},
   "source": [
    "- 创建训练集"
   ]
  },
  {
   "cell_type": "code",
   "execution_count": 36,
   "id": "peripheral-panama",
   "metadata": {},
   "outputs": [
    {
     "name": "stdout",
     "output_type": "stream",
     "text": [
      "The target for this image is: 20\n"
     ]
    },
    {
     "data": {
      "image/png": "[encoded data removed]",
      "text/plain": [
       "<Figure size 432x288 with 1 Axes>"
      ]
     },
     "metadata": {
      "needs_background": "light"
     },
     "output_type": "display_data"
    }
   ],
   "source": [
    "random_state = check_random_state(2021)\n",
    "letters = list(\"ABCDEFGHIJKLMNOPQRSTUVWXYZ\")\n",
    "shear_values = np.arange(0, 0.5, 0.05)\n",
    "def generate_sample(random_state=None):\n",
    "    random_state = check_random_state(random_state)\n",
    "    letter = random_state.choice(letters)\n",
    "    shear = random_state.choice(shear_values)\n",
    "    return create_captcha(letter, shear, size=(20, 20)), letters.index(letter)\n",
    "image, target = generate_sample(random_state)\n",
    "plt.imshow(image, cmap='gray')\n",
    "print(\"The target for this image is: {0}\".format(target)) "
   ]
  },
  {
   "cell_type": "code",
   "execution_count": 38,
   "id": "exclusive-vector",
   "metadata": {},
   "outputs": [],
   "source": [
    "datasets, targets = zip(*(generate_sample(random_state) for _ in range(3000)))\n",
    "datasets = np.array(datasets, dtype='float')\n",
    "targets = np.array(targets)"
   ]
  },
  {
   "cell_type": "code",
   "execution_count": 40,
   "id": "indirect-navigation",
   "metadata": {},
   "outputs": [],
   "source": [
    "onehot = OneHotEncoder()\n",
    "y = onehot.fit_transform(targets.reshape(targets.shape[0], 1))\n",
    "y = y.todense()"
   ]
  },
  {
   "cell_type": "code",
   "execution_count": 41,
   "id": "molecular-third",
   "metadata": {},
   "outputs": [],
   "source": [
    "from skimage.transform import resize\n",
    "datasets = np.array([resize(segment_image(sample)[0], (20, 20)) for sample in datasets])\n",
    "X = datasets.reshape(datasets.shape[0], datasets.shape[1] * datasets.shape[2])"
   ]
  },
  {
   "cell_type": "code",
   "execution_count": 42,
   "id": "beginning-bumper",
   "metadata": {},
   "outputs": [],
   "source": [
    "from sklearn.model_selection import train_test_split\n",
    "X_train, X_test, y_train, y_test = train_test_split(X, y, test_size=0.1, random_state=2021)"
   ]
  },
  {
   "cell_type": "code",
   "execution_count": 44,
   "id": "developmental-princess",
   "metadata": {},
   "outputs": [],
   "source": [
    "# 训练和分类\n",
    "# pip install https://github.com/pybrain/pybrain/archive/0.3.3.zip"
   ]
  },
  {
   "cell_type": "code",
   "execution_count": 48,
   "id": "exclusive-advancement",
   "metadata": {},
   "outputs": [],
   "source": [
    "from pybrain.datasets import SupervisedDataSet\n",
    "from pybrain.tools.shortcuts import buildNetwork\n",
    "from pybrain.supervised.trainers import BackpropTrainer\n",
    "from sklearn.metrics import f1_score\n",
    "from sklearn.metrics import classification_report"
   ]
  },
  {
   "cell_type": "code",
   "execution_count": 51,
   "id": "developing-admission",
   "metadata": {},
   "outputs": [],
   "source": [
    "train_data = SupervisedDataSet(X.shape[1], y.shape[1])\n",
    "for i in range(X_train.shape[0]):\n",
    "    train_data.addSample(X_train[i], y_train[i])\n",
    "\n",
    "test_data = SupervisedDataSet(X.shape[1], y.shape[1])\n",
    "for i in range(X_test.shape[0]):\n",
    "    test_data.addSample(X_test[i], y_test[i])"
   ]
  },
  {
   "cell_type": "code",
   "execution_count": 52,
   "id": "owned-inspiration",
   "metadata": {},
   "outputs": [
    {
     "name": "stdout",
     "output_type": "stream",
     "text": [
      "F-score: 0.94\n",
      "              precision    recall  f1-score   support\n",
      "\n",
      "           0       1.00      1.00      1.00        16\n",
      "           1       1.00      1.00      1.00         9\n",
      "           2       0.80      1.00      0.89        12\n",
      "           3       1.00      1.00      1.00        13\n",
      "           4       1.00      0.64      0.78        11\n",
      "           5       0.75      1.00      0.86        12\n",
      "           6       1.00      0.73      0.84        11\n",
      "           7       1.00      1.00      1.00        13\n",
      "           8       0.71      1.00      0.83        17\n",
      "           9       1.00      0.73      0.85        15\n",
      "          10       1.00      1.00      1.00         8\n",
      "          11       0.77      0.71      0.74        14\n",
      "          12       1.00      1.00      1.00         6\n",
      "          13       1.00      1.00      1.00        12\n",
      "          14       1.00      1.00      1.00         9\n",
      "          15       1.00      1.00      1.00        10\n",
      "          16       1.00      1.00      1.00         9\n",
      "          17       1.00      1.00      1.00        14\n",
      "          18       1.00      1.00      1.00         9\n",
      "          19       1.00      1.00      1.00         9\n",
      "          20       1.00      0.75      0.86         8\n",
      "          21       1.00      1.00      1.00         7\n",
      "          22       1.00      1.00      1.00        14\n",
      "          23       1.00      1.00      1.00        10\n",
      "          24       1.00      1.00      1.00        16\n",
      "          25       1.00      1.00      1.00        16\n",
      "\n",
      "    accuracy                           0.94       300\n",
      "   macro avg       0.96      0.94      0.95       300\n",
      "weighted avg       0.95      0.94      0.94       300\n",
      "\n"
     ]
    }
   ],
   "source": [
    "net = buildNetwork(X.shape[1], 100, y.shape[1], bias=True)\n",
    "\n",
    "trainer = BackpropTrainer(net, train_data, learningrate=0.01, weightdecay=0.01)\n",
    "trainer.trainEpochs(epochs=20)\n",
    "\n",
    "predictions = trainer.testOnClassData(dataset=test_data)\n",
    "\n",
    "print(\"F-score: {0:.2f}\".format(f1_score(predictions, y_test.argmax(axis=1),average='micro')))\n",
    "print(classification_report(y_test.argmax(axis=1), predictions))"
   ]
  },
  {
   "cell_type": "code",
   "execution_count": 53,
   "id": "defensive-cinema",
   "metadata": {},
   "outputs": [],
   "source": [
    "def predict_captcha(captcha_image, neural_network):\n",
    "    subimages = segment_image(captcha_image)\n",
    "    predicted_word = \"\"\n",
    "    for subimage in subimages:\n",
    "        subimage = resize(subimage, (20, 20))\n",
    "        outputs = net.activate(subimage.flatten())\n",
    "        prediction = np.argmax(outputs)\n",
    "        predicted_word += letters[prediction]\n",
    "    return predicted_word"
   ]
  },
  {
   "cell_type": "code",
   "execution_count": null,
   "id": "apart-investing",
   "metadata": {},
   "outputs": [],
   "source": [
    "word = \"GENE\"\n",
    "captcha = create_captcha(word, shear=0.2)\n"
   ]
  }
 ],
 "metadata": {
  "kernelspec": {
   "display_name": "Python 3",
   "language": "python",
   "name": "python3"
  },
  "language_info": {
   "codemirror_mode": {
    "name": "ipython",
    "version": 3
   },
   "file_extension": ".py",
   "mimetype": "text/x-python",
   "name": "python",
   "nbconvert_exporter": "python",
   "pygments_lexer": "ipython3",
   "version": "3.8.0"
  }
 },
 "nbformat": 4,
 "nbformat_minor": 5
}
