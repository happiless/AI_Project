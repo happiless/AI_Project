{
 "cells": [
  {
   "cell_type": "markdown",
   "id": "asian-coaching",
   "metadata": {},
   "source": [
    "##### 主要内容：\n",
    "- 用社交网络数据创建图\n",
    "- 加载和保存创建的分类器\n",
    "- NetworkX库\n",
    "- 图到矩阵的转换\n",
    "- 距离和相似度\n",
    "- 根据打分函数优化参数\n",
    "- 损失函数和打分函数"
   ]
  },
  {
   "cell_type": "markdown",
   "id": "ancient-terminal",
   "metadata": {},
   "source": [
    "### 1. 加载数据和模型"
   ]
  },
  {
   "cell_type": "code",
   "execution_count": 6,
   "id": "hired-field",
   "metadata": {},
   "outputs": [],
   "source": [
    "import os\n",
    "import joblib\n",
    "\n",
    "from sklearn.base import TransformerMixin\n",
    "from nltk import word_tokenize"
   ]
  },
  {
   "cell_type": "code",
   "execution_count": 7,
   "id": "rubber-minute",
   "metadata": {},
   "outputs": [],
   "source": [
    "class NLTKBOW(TransformerMixin):\n",
    "    def fit(self, X, y=None):\n",
    "         return self\n",
    "    def transform(self, X):\n",
    "        return [{word: True for word in word_tokenize(document)} for document in X] \n",
    "\n",
    "model = joblib.load('./data/python_context.pkl')"
   ]
  },
  {
   "cell_type": "code",
   "execution_count": null,
   "id": "analyzed-acoustic",
   "metadata": {},
   "outputs": [],
   "source": []
  },
  {
   "cell_type": "code",
   "execution_count": null,
   "id": "looking-vampire",
   "metadata": {},
   "outputs": [],
   "source": []
  }
 ],
 "metadata": {
  "kernelspec": {
   "display_name": "Python 3",
   "language": "python",
   "name": "python3"
  },
  "language_info": {
   "codemirror_mode": {
    "name": "ipython",
    "version": 3
   },
   "file_extension": ".py",
   "mimetype": "text/x-python",
   "name": "python",
   "nbconvert_exporter": "python",
   "pygments_lexer": "ipython3",
   "version": "3.8.0"
  }
 },
 "nbformat": 4,
 "nbformat_minor": 5
}
